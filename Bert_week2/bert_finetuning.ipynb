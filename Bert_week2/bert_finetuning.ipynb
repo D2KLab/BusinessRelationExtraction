{
  "nbformat": 4,
  "nbformat_minor": 0,
  "metadata": {
    "colab": {
      "name": "bert_finetuning.ipynb",
      "provenance": [],
      "collapsed_sections": []
    },
    "kernelspec": {
      "name": "python3",
      "display_name": "Python 3"
    },
    "language_info": {
      "name": "python"
    },
    "accelerator": "GPU"
  },
  "cells": [
    {
      "cell_type": "code",
      "execution_count": null,
      "metadata": {
        "id": "1IO1d0UoMyWY"
      },
      "outputs": [],
      "source": [
        "!nvidia-smi"
      ]
    },
    {
      "cell_type": "code",
      "source": [
        ""
      ],
      "metadata": {
        "id": "e0ZPpLkYTJdM"
      },
      "execution_count": null,
      "outputs": []
    },
    {
      "cell_type": "code",
      "source": [
        "!pip install -U spacy-nightly --pre"
      ],
      "metadata": {
        "id": "7PZ53N6cMzVK"
      },
      "execution_count": null,
      "outputs": []
    },
    {
      "cell_type": "code",
      "source": [
        "!pip install -U pip setuptools wheel\n",
        "!python -m spacy project clone tutorials/rel_component"
      ],
      "metadata": {
        "id": "NWYVc_LjMztl"
      },
      "execution_count": null,
      "outputs": []
    },
    {
      "cell_type": "code",
      "source": [
        "!python -m spacy download en_core_web_trf\n",
        "!pip install -U spacy transformers"
      ],
      "metadata": {
        "id": "LXLUn6dlMzxx"
      },
      "execution_count": null,
      "outputs": []
    },
    {
      "cell_type": "code",
      "source": [
        "cd rel_component"
      ],
      "metadata": {
        "colab": {
          "base_uri": "https://localhost:8080/"
        },
        "id": "YPJVOf0SVBOa",
        "outputId": "27a3a8b8-d0d9-4514-e050-244c77762b3c"
      },
      "execution_count": 5,
      "outputs": [
        {
          "output_type": "stream",
          "name": "stdout",
          "text": [
            "/content/rel_component\n"
          ]
        }
      ]
    },
    {
      "cell_type": "code",
      "source": [
        "!spacy project run train_gpu"
      ],
      "metadata": {
        "colab": {
          "base_uri": "https://localhost:8080/"
        },
        "id": "JSvy_fuVM0A3",
        "outputId": "697d4a2a-3e83-4a49-c3d3-d734bdc2e075"
      },
      "execution_count": 6,
      "outputs": [
        {
          "output_type": "stream",
          "name": "stdout",
          "text": [
            "\u001b[1m\n",
            "================================= train_gpu =================================\u001b[0m\n",
            "Running command: /usr/bin/python3 -m spacy train configs/rel_trf.cfg --output training --paths.train data/relations_training.spacy --paths.dev data/relations_dev.spacy -c ./scripts/custom_functions.py --gpu-id 0\n",
            "\u001b[38;5;4mℹ Saving to output directory: training\u001b[0m\n",
            "\u001b[38;5;4mℹ Using GPU: 0\u001b[0m\n",
            "\u001b[1m\n",
            "=========================== Initializing pipeline ===========================\u001b[0m\n",
            "[2022-03-31 09:35:33,857] [INFO] Set up nlp object from config\n",
            "[2022-03-31 09:35:33,868] [INFO] Pipeline: ['transformer', 'relation_extractor']\n",
            "[2022-03-31 09:35:33,873] [INFO] Created vocabulary\n",
            "[2022-03-31 09:35:33,875] [INFO] Finished initializing nlp object\n",
            "Downloading: 100% 481/481 [00:00<00:00, 420kB/s]\n",
            "Downloading: 100% 878k/878k [00:00<00:00, 1.85MB/s]\n",
            "Downloading: 100% 446k/446k [00:00<00:00, 1.13MB/s]\n",
            "Downloading: 100% 1.29M/1.29M [00:00<00:00, 2.74MB/s]\n",
            "Downloading: 100% 478M/478M [00:11<00:00, 43.2MB/s]\n",
            "Some weights of the model checkpoint at roberta-base were not used when initializing RobertaModel: ['lm_head.layer_norm.weight', 'lm_head.layer_norm.bias', 'lm_head.dense.bias', 'lm_head.bias', 'lm_head.decoder.weight', 'lm_head.dense.weight']\n",
            "- This IS expected if you are initializing RobertaModel from the checkpoint of a model trained on another task or with another architecture (e.g. initializing a BertForSequenceClassification model from a BertForPreTraining model).\n",
            "- This IS NOT expected if you are initializing RobertaModel from the checkpoint of a model that you expect to be exactly identical (initializing a BertForSequenceClassification model from a BertForSequenceClassification model).\n",
            "[2022-03-31 09:37:01,503] [INFO] Initialized pipeline components: ['transformer', 'relation_extractor']\n",
            "\u001b[38;5;2m✔ Initialized pipeline\u001b[0m\n",
            "\u001b[1m\n",
            "============================= Training pipeline =============================\u001b[0m\n",
            "\u001b[38;5;4mℹ Pipeline: ['transformer', 'relation_extractor']\u001b[0m\n",
            "\u001b[38;5;4mℹ Initial learn rate: 0.0\u001b[0m\n",
            "E    #       LOSS TRANS...  LOSS RELAT...  REL_MICRO_P  REL_MICRO_R  REL_MICRO_F  SCORE \n",
            "---  ------  -------------  -------------  -----------  -----------  -----------  ------\n",
            "  0       0           0.32           0.72         6.71        89.36        12.48    0.12\n",
            " 12     100          11.07          16.03        86.96        63.83        73.62    0.74\n",
            " 25     200           0.23           2.62        78.45        96.81        86.67    0.87\n",
            " 37     300           0.12           2.00        86.73        90.43        88.54    0.89\n",
            " 50     400           0.04           1.46        85.32        98.94        91.63    0.92\n",
            " 62     500           0.02           1.26        85.19        97.87        91.09    0.91\n",
            " 75     600           0.01           1.20        86.11        98.94        92.08    0.92\n",
            " 87     700           0.01           1.21        87.50        96.81        91.92    0.92\n",
            "100     800           0.01           1.19        90.72        93.62        92.15    0.92\n",
            "112     900           0.01           1.18        91.49        91.49        91.49    0.91\n",
            "125    1000           0.01           1.17        90.91        95.74        93.26    0.93\n",
            "\u001b[38;5;2m✔ Saved pipeline to output directory\u001b[0m\n",
            "training/model-last\n"
          ]
        }
      ]
    },
    {
      "cell_type": "markdown",
      "source": [
        "micro_P: precision\n",
        "micro_R: recall\n",
        "micro_F: F1 score\n",
        "\n",
        "\n",
        "Note: precision more important than recall in this context, may be able to adapt loss function"
      ],
      "metadata": {
        "id": "fDWc-rCjXbPY"
      }
    },
    {
      "cell_type": "code",
      "source": [
        "!spacy project run evaluate"
      ],
      "metadata": {
        "colab": {
          "base_uri": "https://localhost:8080/"
        },
        "id": "Xrhff78FM0IS",
        "outputId": "2dd0817c-956e-4ffb-f159-55fb8e36dd45"
      },
      "execution_count": 7,
      "outputs": [
        {
          "output_type": "stream",
          "name": "stdout",
          "text": [
            "\u001b[1m\n",
            "================================== evaluate ==================================\u001b[0m\n",
            "Running command: /usr/bin/python3 ./scripts/evaluate.py training/model-best data/relations_test.spacy False\n",
            "\n",
            "Random baseline:\n",
            "threshold 0.00 \t {'rel_micro_p': '5.49', 'rel_micro_r': '100.00', 'rel_micro_f': '10.41'}\n",
            "threshold 0.05 \t {'rel_micro_p': '5.48', 'rel_micro_r': '93.85', 'rel_micro_f': '10.35'}\n",
            "threshold 0.10 \t {'rel_micro_p': '5.46', 'rel_micro_r': '89.23', 'rel_micro_f': '10.29'}\n",
            "threshold 0.20 \t {'rel_micro_p': '5.18', 'rel_micro_r': '75.38', 'rel_micro_f': '9.69'}\n",
            "threshold 0.30 \t {'rel_micro_p': '4.89', 'rel_micro_r': '61.54', 'rel_micro_f': '9.06'}\n",
            "threshold 0.40 \t {'rel_micro_p': '4.68', 'rel_micro_r': '50.77', 'rel_micro_f': '8.57'}\n",
            "threshold 0.50 \t {'rel_micro_p': '4.63', 'rel_micro_r': '41.54', 'rel_micro_f': '8.33'}\n",
            "threshold 0.60 \t {'rel_micro_p': '4.65', 'rel_micro_r': '33.85', 'rel_micro_f': '8.18'}\n",
            "threshold 0.70 \t {'rel_micro_p': '4.13', 'rel_micro_r': '23.08', 'rel_micro_f': '7.01'}\n",
            "threshold 0.80 \t {'rel_micro_p': '5.08', 'rel_micro_r': '18.46', 'rel_micro_f': '7.97'}\n",
            "threshold 0.90 \t {'rel_micro_p': '6.90', 'rel_micro_r': '12.31', 'rel_micro_f': '8.84'}\n",
            "threshold 0.99 \t {'rel_micro_p': '22.22', 'rel_micro_r': '3.08', 'rel_micro_f': '5.41'}\n",
            "threshold 1.00 \t {'rel_micro_p': '0.00', 'rel_micro_r': '0.00', 'rel_micro_f': '0.00'}\n",
            "\n",
            "Results of the trained model:\n",
            "threshold 0.00 \t {'rel_micro_p': '5.49', 'rel_micro_r': '100.00', 'rel_micro_f': '10.41'}\n",
            "threshold 0.05 \t {'rel_micro_p': '64.95', 'rel_micro_r': '96.92', 'rel_micro_f': '77.78'}\n",
            "threshold 0.10 \t {'rel_micro_p': '72.41', 'rel_micro_r': '96.92', 'rel_micro_f': '82.89'}\n",
            "threshold 0.20 \t {'rel_micro_p': '78.48', 'rel_micro_r': '95.38', 'rel_micro_f': '86.11'}\n",
            "threshold 0.30 \t {'rel_micro_p': '78.48', 'rel_micro_r': '95.38', 'rel_micro_f': '86.11'}\n",
            "threshold 0.40 \t {'rel_micro_p': '81.33', 'rel_micro_r': '93.85', 'rel_micro_f': '87.14'}\n",
            "threshold 0.50 \t {'rel_micro_p': '82.43', 'rel_micro_r': '93.85', 'rel_micro_f': '87.77'}\n",
            "threshold 0.60 \t {'rel_micro_p': '82.19', 'rel_micro_r': '92.31', 'rel_micro_f': '86.96'}\n",
            "threshold 0.70 \t {'rel_micro_p': '81.69', 'rel_micro_r': '89.23', 'rel_micro_f': '85.29'}\n",
            "threshold 0.80 \t {'rel_micro_p': '81.25', 'rel_micro_r': '80.00', 'rel_micro_f': '80.62'}\n",
            "threshold 0.90 \t {'rel_micro_p': '82.14', 'rel_micro_r': '70.77', 'rel_micro_f': '76.03'}\n",
            "threshold 0.99 \t {'rel_micro_p': '86.96', 'rel_micro_r': '30.77', 'rel_micro_f': '45.45'}\n",
            "threshold 1.00 \t {'rel_micro_p': '60.00', 'rel_micro_r': '4.62', 'rel_micro_f': '8.57'}\n"
          ]
        }
      ]
    },
    {
      "cell_type": "markdown",
      "source": [
        ""
      ],
      "metadata": {
        "id": "DaKNOmkjbt_1"
      }
    },
    {
      "cell_type": "code",
      "source": [
        "!spacy project run train_cpu # command to train non-transformer tok2vec"
      ],
      "metadata": {
        "colab": {
          "base_uri": "https://localhost:8080/"
        },
        "id": "Cnqs8cfRM0LD",
        "outputId": "3b608685-9985-44fe-9a03-df457262a4da"
      },
      "execution_count": 8,
      "outputs": [
        {
          "output_type": "stream",
          "name": "stdout",
          "text": [
            "\u001b[1m\n",
            "================================= train_cpu =================================\u001b[0m\n",
            "Running command: /usr/bin/python3 -m spacy train configs/rel_tok2vec.cfg --output training --paths.train data/relations_training.spacy --paths.dev data/relations_dev.spacy -c ./scripts/custom_functions.py\n",
            "\u001b[38;5;4mℹ Saving to output directory: training\u001b[0m\n",
            "\u001b[38;5;4mℹ Using CPU\u001b[0m\n",
            "\u001b[38;5;4mℹ To switch to GPU 0, use the option: --gpu-id 0\u001b[0m\n",
            "\u001b[1m\n",
            "=========================== Initializing pipeline ===========================\u001b[0m\n",
            "[2022-03-31 10:02:15,847] [INFO] Set up nlp object from config\n",
            "[2022-03-31 10:02:15,859] [INFO] Pipeline: ['tok2vec', 'relation_extractor']\n",
            "[2022-03-31 10:02:15,863] [INFO] Created vocabulary\n",
            "[2022-03-31 10:02:15,864] [INFO] Finished initializing nlp object\n",
            "[2022-03-31 10:02:16,321] [INFO] Initialized pipeline components: ['tok2vec', 'relation_extractor']\n",
            "\u001b[38;5;2m✔ Initialized pipeline\u001b[0m\n",
            "\u001b[1m\n",
            "============================= Training pipeline =============================\u001b[0m\n",
            "\u001b[38;5;4mℹ Pipeline: ['tok2vec', 'relation_extractor']\u001b[0m\n",
            "\u001b[38;5;4mℹ Initial learn rate: 0.001\u001b[0m\n",
            "E    #       LOSS TOK2VEC  LOSS RELAT...  REL_MICRO_P  REL_MICRO_R  REL_MICRO_F  SCORE \n",
            "---  ------  ------------  -------------  -----------  -----------  -----------  ------\n",
            "  0       0          0.01           0.77         2.56        18.95         4.51    0.05\n",
            "  7     500          0.25          29.62        83.72        37.89        52.17    0.52\n",
            " 15    1000          0.09          10.54        58.16        60.00        59.07    0.59\n",
            " 23    1500          0.07           9.85        59.04        51.58        55.06    0.55\n",
            " 34    2000          0.08           9.20        71.05        56.84        63.16    0.63\n",
            " 53    2500          0.10           9.01        75.68        58.95        66.27    0.66\n",
            " 86    3000          0.04           7.93        85.48        55.79        67.52    0.68\n",
            "124    3500          0.02           7.64        82.81        55.79        66.67    0.67\n",
            "162    4000          0.01           7.38        80.60        56.84        66.67    0.67\n",
            "200    4500          0.01           7.35        80.60        56.84        66.67    0.67\n",
            "238    5000          0.04           7.56        89.47        53.68        67.11    0.67\n",
            "276    5500          0.00           7.19        83.87        54.74        66.24    0.66\n",
            "314    6000          0.03           7.74        86.89        55.79        67.95    0.68\n",
            "352    6500          0.00           7.49        89.66        54.74        67.97    0.68\n",
            "390    7000          0.00           7.44        87.93        53.68        66.67    0.67\n",
            "428    7500          0.00           7.31        89.47        53.68        67.11    0.67\n",
            "466    8000          0.00           7.46        89.47        53.68        67.11    0.67\n",
            "504    8500          0.13           7.81        73.24        54.74        62.65    0.63\n",
            "542    9000          0.01           7.41        80.88        57.89        67.48    0.67\n",
            "581    9500          0.00           7.42        80.88        57.89        67.48    0.67\n",
            "619   10000          0.00           7.25        86.89        55.79        67.95    0.68\n",
            "\u001b[38;5;2m✔ Saved pipeline to output directory\u001b[0m\n",
            "training/model-last\n"
          ]
        }
      ]
    },
    {
      "cell_type": "code",
      "source": [
        "!spacy project run evaluate"
      ],
      "metadata": {
        "colab": {
          "base_uri": "https://localhost:8080/"
        },
        "id": "PCwRAHUpM0Oi",
        "outputId": "0753dfc7-d8ba-4435-f4ec-a2a843421687"
      },
      "execution_count": 9,
      "outputs": [
        {
          "output_type": "stream",
          "name": "stdout",
          "text": [
            "\u001b[1m\n",
            "================================== evaluate ==================================\u001b[0m\n",
            "Running command: /usr/bin/python3 ./scripts/evaluate.py training/model-best data/relations_test.spacy False\n",
            "\n",
            "Random baseline:\n",
            "threshold 0.00 \t {'rel_micro_p': '2.84', 'rel_micro_r': '100.00', 'rel_micro_f': '5.52'}\n",
            "threshold 0.05 \t {'rel_micro_p': '2.78', 'rel_micro_r': '93.33', 'rel_micro_f': '5.40'}\n",
            "threshold 0.10 \t {'rel_micro_p': '2.81', 'rel_micro_r': '89.33', 'rel_micro_f': '5.44'}\n",
            "threshold 0.20 \t {'rel_micro_p': '2.79', 'rel_micro_r': '78.67', 'rel_micro_f': '5.39'}\n",
            "threshold 0.30 \t {'rel_micro_p': '2.90', 'rel_micro_r': '70.67', 'rel_micro_f': '5.56'}\n",
            "threshold 0.40 \t {'rel_micro_p': '3.01', 'rel_micro_r': '62.67', 'rel_micro_f': '5.75'}\n",
            "threshold 0.50 \t {'rel_micro_p': '3.26', 'rel_micro_r': '56.00', 'rel_micro_f': '6.16'}\n",
            "threshold 0.60 \t {'rel_micro_p': '3.35', 'rel_micro_r': '46.67', 'rel_micro_f': '6.25'}\n",
            "threshold 0.70 \t {'rel_micro_p': '3.77', 'rel_micro_r': '40.00', 'rel_micro_f': '6.89'}\n",
            "threshold 0.80 \t {'rel_micro_p': '3.67', 'rel_micro_r': '25.33', 'rel_micro_f': '6.41'}\n",
            "threshold 0.90 \t {'rel_micro_p': '2.19', 'rel_micro_r': '8.00', 'rel_micro_f': '3.44'}\n",
            "threshold 0.99 \t {'rel_micro_p': '0.00', 'rel_micro_r': '0.00', 'rel_micro_f': '0.00'}\n",
            "threshold 1.00 \t {'rel_micro_p': '0.00', 'rel_micro_r': '0.00', 'rel_micro_f': '0.00'}\n",
            "\n",
            "Results of the trained model:\n",
            "threshold 0.00 \t {'rel_micro_p': '2.84', 'rel_micro_r': '100.00', 'rel_micro_f': '5.52'}\n",
            "threshold 0.05 \t {'rel_micro_p': '39.02', 'rel_micro_r': '21.33', 'rel_micro_f': '27.59'}\n",
            "threshold 0.10 \t {'rel_micro_p': '44.44', 'rel_micro_r': '21.33', 'rel_micro_f': '28.83'}\n",
            "threshold 0.20 \t {'rel_micro_p': '40.00', 'rel_micro_r': '16.00', 'rel_micro_f': '22.86'}\n",
            "threshold 0.30 \t {'rel_micro_p': '44.44', 'rel_micro_r': '16.00', 'rel_micro_f': '23.53'}\n",
            "threshold 0.40 \t {'rel_micro_p': '42.31', 'rel_micro_r': '14.67', 'rel_micro_f': '21.78'}\n",
            "threshold 0.50 \t {'rel_micro_p': '40.00', 'rel_micro_r': '13.33', 'rel_micro_f': '20.00'}\n",
            "threshold 0.60 \t {'rel_micro_p': '39.13', 'rel_micro_r': '12.00', 'rel_micro_f': '18.37'}\n",
            "threshold 0.70 \t {'rel_micro_p': '38.10', 'rel_micro_r': '10.67', 'rel_micro_f': '16.67'}\n",
            "threshold 0.80 \t {'rel_micro_p': '38.89', 'rel_micro_r': '9.33', 'rel_micro_f': '15.05'}\n",
            "threshold 0.90 \t {'rel_micro_p': '50.00', 'rel_micro_r': '8.00', 'rel_micro_f': '13.79'}\n",
            "threshold 0.99 \t {'rel_micro_p': '57.14', 'rel_micro_r': '5.33', 'rel_micro_f': '9.76'}\n",
            "threshold 1.00 \t {'rel_micro_p': '66.67', 'rel_micro_r': '2.67', 'rel_micro_f': '5.13'}\n"
          ]
        }
      ]
    },
    {
      "cell_type": "code",
      "source": [
        ""
      ],
      "metadata": {
        "id": "ywrhPWOYbiw1"
      },
      "execution_count": null,
      "outputs": []
    },
    {
      "cell_type": "markdown",
      "source": [
        "Notes on notebook:\n",
        "\n",
        "Spacy offre des tutorials qui permettent d'utiliser leurs modèles assez vite, les config files sont plutot clairs (https://github.com/explosion/projects/tree/v3/tutorials). Par contre j'ai du mal à comprendre ce qu'ils attendent en features pour leurs modèles. L'article (https://towardsdatascience.com/how-to-train-a-joint-entities-and-relation-extraction-classifier-using-bert-transformer-with-spacy-49eb08d91b5c) semble suggérer qu'il utilise des NER en features mais son repo ne semble pas les utiliser (https://github.com/walidamamou/relation_extraction_transformer/blob/main/binary_converter.py)... J'ai pas hyper bien compris comment marchent les transformers et comment formater leurs input_shape donc je vais devoir travailler ça pour la semaine prochaine.\n"
      ],
      "metadata": {
        "id": "o3MEiSRbfumv"
      }
    },
    {
      "cell_type": "code",
      "source": [
        ""
      ],
      "metadata": {
        "id": "6IUQfPkslDtQ"
      },
      "execution_count": null,
      "outputs": []
    },
    {
      "cell_type": "markdown",
      "source": [
        "Les resultats montrent que le modèle basé sur transformers est bien plus performant que simple word2vec (F1 score 87.77% contre 28.83%). Je pense que le threshold correspond au niveau de prediction requis d'une classe à l'autre. Il pourrait être intéressant de voir aussi comment on peut changer la fonction de loss pour privilégier une bonne précision contre du recall."
      ],
      "metadata": {
        "id": "lJawyev7lI3N"
      }
    },
    {
      "cell_type": "code",
      "source": [
        ""
      ],
      "metadata": {
        "id": "Mi4zPhzFl4Zw"
      },
      "execution_count": null,
      "outputs": []
    }
  ]
}