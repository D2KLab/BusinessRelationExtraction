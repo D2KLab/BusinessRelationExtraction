{
 "cells": [
  {
   "cell_type": "code",
   "execution_count": 1,
   "metadata": {},
   "outputs": [
    {
     "name": "stderr",
     "output_type": "stream",
     "text": [
      "/Users/romainbourgeois/miniconda3/lib/python3.8/site-packages/jax/_src/lib/__init__.py:34: UserWarning: JAX on Mac ARM machines is experimental and minimally tested. Please see https://github.com/google/jax/issues/5501 in the event of problems.\n",
      "  warnings.warn(\"JAX on Mac ARM machines is experimental and minimally tested. \"\n"
     ]
    }
   ],
   "source": [
    "import os\n",
    "from os import listdir\n",
    "from os.path import isfile, join\n",
    "import numpy as np\n",
    "import pandas as pd\n",
    "import spacy\n",
    "import nltk\n",
    "from nltk.corpus import wordnet\n",
    "from unsupervised_methods import extraction, save_datas\n",
    "from save_datas import save_datas\n",
    "import json"
   ]
  },
  {
   "cell_type": "code",
   "execution_count": 2,
   "metadata": {},
   "outputs": [],
   "source": [
    "f = open('labelledData/labelled_data.json')\n",
    "data = json.load(f)"
   ]
  },
  {
   "cell_type": "code",
   "execution_count": 3,
   "metadata": {},
   "outputs": [],
   "source": [
    "rel=['PARTNERSHIP','RESEARCH_PROJECT','SUBSIDIARY','PURCHASE','FINANCING','RECRUITMENT','LAUNCH_PRODUCT-SERVICE','HAS_PRODUCT-SERVICE',\n",
    "'OPERATES_IN_MARKET','BASED_IN','WORKS_IN']\n",
    "count={}\n",
    "for ii in range(len(rel)):\n",
    "    count[rel[ii]]=[]\n",
    "for i in data:\n",
    "    for j in i['relations']:\n",
    "        count[j['relationLabel']].append(1)"
   ]
  },
  {
   "cell_type": "code",
   "execution_count": 3,
   "metadata": {},
   "outputs": [],
   "source": [
    "root=os.getcwd()+'/rawdata/'\n",
    "model_sm=\"en_core_web_trf\"\n",
    "dt=save_datas(root, model_sm)\n",
    "tokens=dt.compute_token(False)\n",
    "\n",
    "ext=extraction(tokens, tokens)\n"
   ]
  },
  {
   "cell_type": "markdown",
   "metadata": {},
   "source": [
    "# Partnership"
   ]
  },
  {
   "cell_type": "code",
   "execution_count": 6,
   "metadata": {},
   "outputs": [
    {
     "name": "stdout",
     "output_type": "stream",
     "text": [
      "([], []) ([], [{'id': 'afp.com-20210917T130000Z-TX-PAR-ZZK60.txt', 'relation': 'partnership', 'sentence': Zynga has been an original partner for Snapchat since the launch of the Snap Games platform, previously releasing Bumped Out and Tiny Royale for exclusive play on the platform., 'entityA': [Zynga], 'entityB': [Snapchat]}, {'id': 'afp.com-20210917T130000Z-TX-PAR-ZZK60.txt', 'relation': 'partnership', 'sentence': Zynga has been an original partner for Snapchat since the launch of the Snap Games platform, previously releasing Bumped Out and Tiny Royale for exclusive play on the platform., 'entityA': [Zynga], 'entityB': [Snapchat]}]) ([], [])\n"
     ]
    }
   ],
   "source": [
    "svo=ext.extract_SVO(\"partnership\",[\"partner\",\"team\"],[\"ORG\"],[\"ORG\"])\n",
    "att=ext.attribute_pattern(\"partnership\",[\"team\",\"agreement\",\"partnership\",\"partner\",\"partners\"],[\"ORG\"],[\"ORG\"])\n",
    "acl=ext.acl_pattern(\"partnership\",[\"partner\",\"team\"],[\"ORG\"],[\"ORG\"])\n",
    "print(svo,att,acl)"
   ]
  },
  {
   "cell_type": "code",
   "execution_count": 7,
   "metadata": {},
   "outputs": [
    {
     "name": "stdout",
     "output_type": "stream",
     "text": [
      "there is  39  labeled relations for partnership\n"
     ]
    }
   ],
   "source": [
    "print(\"there is \",len(count[rel[0]]),\" labeled relations for partnership\")"
   ]
  },
  {
   "cell_type": "markdown",
   "metadata": {},
   "source": [
    "# Research project"
   ]
  },
  {
   "cell_type": "code",
   "execution_count": 8,
   "metadata": {},
   "outputs": [
    {
     "name": "stdout",
     "output_type": "stream",
     "text": [
      "([], []) ([], []) ([], [])\n"
     ]
    }
   ],
   "source": [
    "svo=ext.extract_SVO(\"research_project\",[\"research\",\"develop\",\"build\"],[\"ORG\"],[\"PRODUCT\"])\n",
    "att=ext.attribute_pattern(\"research_project\",[\"research\",\"development\"],[\"ORG\"],[\"PRODUCT\"])\n",
    "acl=ext.acl_pattern(\"research_project\",[\"research\",\"develop\",\"build\"],[\"ORG\"],[\"PRODUCT\"])\n",
    "print(svo,att,acl)"
   ]
  },
  {
   "cell_type": "code",
   "execution_count": 8,
   "metadata": {},
   "outputs": [
    {
     "name": "stdout",
     "output_type": "stream",
     "text": [
      "there is  9  labeled relations for research project\n"
     ]
    }
   ],
   "source": [
    "print(\"there is \",len(count[rel[1]]),\" labeled relations for research project\")"
   ]
  },
  {
   "cell_type": "markdown",
   "metadata": {},
   "source": [
    "# subsidiary"
   ]
  },
  {
   "cell_type": "code",
   "execution_count": 9,
   "metadata": {},
   "outputs": [
    {
     "name": "stdout",
     "output_type": "stream",
     "text": [
      "([], []) ([], []) ([], [{'id': 'afp.com-20210107T153009Z-TX-PAR-SAZ00.txt', 'relation': 'SUBSIDIARY', 'sentence': UMS, owned by French-Lebanese-Guinean businessman Fadi Wazni, will take on part of Alteo's debt and phase out the import of bauxite, a raw material for aluminium production, within 12 to 18 months because of its environmental impact., 'entityA': [UMS], 'entityB': [Alteo]}])\n"
     ]
    }
   ],
   "source": [
    "svo=ext.extract_SVO(\"SUBSIDIARY\",[\"own\",\"possess\",\"acquire\"],[\"ORG\"],[\"PRODUCT\"])\n",
    "att=ext.attribute_pattern(\"SUBSIDIARY\",[\"subsidiary\"],[\"ORG\"],[\"PRODUCT\"])\n",
    "acl=ext.acl_pattern(\"SUBSIDIARY\",[\"own\",\"possess\",\"acquire\"],[\"ORG\"],[\"PRODUCT\"])\n",
    "print(svo,att,acl)"
   ]
  },
  {
   "cell_type": "code",
   "execution_count": 9,
   "metadata": {},
   "outputs": [
    {
     "name": "stdout",
     "output_type": "stream",
     "text": [
      "there is  29  labeled relations for subsidiary\n"
     ]
    }
   ],
   "source": [
    "print(\"there is \",len(count[rel[2]]),\" labeled relations for subsidiary\")"
   ]
  },
  {
   "cell_type": "markdown",
   "metadata": {},
   "source": [
    "# Purchase"
   ]
  },
  {
   "cell_type": "code",
   "execution_count": 10,
   "metadata": {},
   "outputs": [
    {
     "name": "stdout",
     "output_type": "stream",
     "text": [
      "([], []) ([], []) ([], [])\n"
     ]
    }
   ],
   "source": [
    "svo=ext.extract_SVO(\"purchase\",[\"purchase\",\"possess\",\"acquire\"],[\"ORG\"],[\"PRODUCT\"])\n",
    "att=ext.attribute_pattern(\"purchase\",[\"acquisition\"],[\"ORG\"],[\"PRODUCT\"])\n",
    "acl=ext.acl_pattern(\"purchase\",[\"purchase\",\"possess\",\"acquire\"],[\"ORG\"],[\"PRODUCT\"])\n",
    "print(svo,att,acl)"
   ]
  },
  {
   "cell_type": "code",
   "execution_count": 11,
   "metadata": {},
   "outputs": [
    {
     "name": "stdout",
     "output_type": "stream",
     "text": [
      "there is  1  labeled relations for 'Purchase'\n"
     ]
    }
   ],
   "source": [
    "print(\"there is \",len(count[rel[3]]),\" labeled relations for 'Purchase'\")"
   ]
  },
  {
   "cell_type": "markdown",
   "metadata": {},
   "source": [
    "# Financing"
   ]
  },
  {
   "cell_type": "code",
   "execution_count": 12,
   "metadata": {},
   "outputs": [
    {
     "name": "stdout",
     "output_type": "stream",
     "text": [
      "([], []) ([], []) ([], [])\n"
     ]
    }
   ],
   "source": [
    "svo=ext.extract_SVO(\"Financing\",[\"raise\",\"borrow\",\"obtain\"],[\"ORG\"],[\"AMOUNT\"])\n",
    "att=ext.attribute_pattern(\"Financing\",[\"loan\"],[\"ORG\"],[\"AMOUNT\"])\n",
    "acl=ext.acl_pattern(\"Financing\",[\"raise\",\"borrow\",\"obtain\"],[\"ORG\"],[\"AMOUNT\"])\n",
    "print(svo,att,acl)"
   ]
  },
  {
   "cell_type": "code",
   "execution_count": 12,
   "metadata": {},
   "outputs": [
    {
     "name": "stdout",
     "output_type": "stream",
     "text": [
      "there is  9  labeled relations for 'financing'\n"
     ]
    }
   ],
   "source": [
    "print(\"there is \",len(count[rel[4]]),\" labeled relations for 'financing'\")"
   ]
  },
  {
   "cell_type": "markdown",
   "metadata": {},
   "source": [
    "# Recruitment"
   ]
  },
  {
   "cell_type": "code",
   "execution_count": 14,
   "metadata": {},
   "outputs": [
    {
     "name": "stdout",
     "output_type": "stream",
     "text": [
      "([], []) ([], []) ([], [])\n"
     ]
    }
   ],
   "source": [
    "svo=ext.extract_SVO(\"Recruitment\",[\"hire\",\"recruit\"],[\"ORG\"],[\"PERSON\"])\n",
    "att=ext.attribute_pattern(\"Recruitment\",[\"recruit\",\"hire\"],[\"ORG\"],[\"PERSON\"])\n",
    "acl=ext.acl_pattern(\"Recruitment\",[\"hire\",\"recruit\"],[\"ORG\"],[\"PERSON\"])\n",
    "print(svo,att,acl)"
   ]
  },
  {
   "cell_type": "code",
   "execution_count": 13,
   "metadata": {},
   "outputs": [
    {
     "name": "stdout",
     "output_type": "stream",
     "text": [
      "there is  0  labeled relations for 'recruitment'\n"
     ]
    }
   ],
   "source": [
    "print(\"there is \",len(count[rel[5]]),\" labeled relations for 'recruitment'\")"
   ]
  },
  {
   "cell_type": "markdown",
   "metadata": {},
   "source": [
    "# LAUNCH_PRODUCT-SERVICE"
   ]
  },
  {
   "cell_type": "code",
   "execution_count": 16,
   "metadata": {},
   "outputs": [
    {
     "name": "stdout",
     "output_type": "stream",
     "text": [
      "([{'id': 'afp.com-20210324T083100Z-TX-PAR-UOB37.txt', 'relation': 'LAUNCH_PRODUCT-SERVICE', 'sentence': Following eight years extensive research, Nextek Ltd has launched a global multi-participant project (NEXTLOOPP) to address a missing link in the plastics recycling stream - Polypropylene (, 'entityA': [Nextek], 'entityB': [NEXTLOOPP]}, {'id': 'afp.com-20210324T083100Z-TX-PAR-UOB37.txt', 'relation': 'LAUNCH_PRODUCT-SERVICE', 'sentence': Nextek launched NEXTLOOPP, a two-year multi-participant project, to close the loop on food-grade rPP., 'entityA': [Nextek], 'entityB': [NEXTLOOPP]}], []) ([], []) ([], [])\n"
     ]
    }
   ],
   "source": [
    "svo=ext.extract_SVO(\"LAUNCH_PRODUCT-SERVICE\",[\"launch\",\"release\"],[\"ORG\"],[\"PRODUCT\"])\n",
    "att=ext.attribute_pattern(\"LAUNCH_PRODUCT-SERVICE\",[\"product\",\"service\"],[\"ORG\"],[\"PRODUCT\"])\n",
    "acl=ext.acl_pattern(\"LAUNCH_PRODUCT-SERVICE\",[\"launch\",\"release\"],[\"ORG\"],[\"PRODUCT\"])\n",
    "print(svo,att,acl)"
   ]
  },
  {
   "cell_type": "code",
   "execution_count": 14,
   "metadata": {},
   "outputs": [
    {
     "name": "stdout",
     "output_type": "stream",
     "text": [
      "there is  9  labeled relations for 'launch_product-service'\n"
     ]
    }
   ],
   "source": [
    "print(\"there is \",len(count[rel[6]]),\" labeled relations for 'launch_product-service'\")"
   ]
  },
  {
   "cell_type": "markdown",
   "metadata": {},
   "source": [
    "# has product"
   ]
  },
  {
   "cell_type": "code",
   "execution_count": 17,
   "metadata": {},
   "outputs": [
    {
     "name": "stdout",
     "output_type": "stream",
     "text": [
      "([], []) ([], []) ([], [])\n"
     ]
    }
   ],
   "source": [
    "svo=ext.extract_SVO(\"LAUNCH_PRODUCT-SERVICE\",[\"sale\",\"provide\"],[\"ORG\"],[\"PRODUCT\"])\n",
    "att=ext.attribute_pattern(\"LAUNCH_PRODUCT-SERVICE\",[\"product\",\"service\"],[\"ORG\"],[\"PRODUCT\"])\n",
    "acl=ext.acl_pattern(\"LAUNCH_PRODUCT-SERVICE\",[\"sale\",\"provide\"],[\"ORG\"],[\"PRODUCT\"])\n",
    "print(svo,att,acl)"
   ]
  },
  {
   "cell_type": "code",
   "execution_count": 15,
   "metadata": {},
   "outputs": [
    {
     "name": "stdout",
     "output_type": "stream",
     "text": [
      "there is  112  labeled relations for 'has-product'\n"
     ]
    }
   ],
   "source": [
    "print(\"there is \",len(count[rel[7]]),\" labeled relations for 'has-product'\")"
   ]
  },
  {
   "cell_type": "markdown",
   "metadata": {},
   "source": [
    "# Operates in market"
   ]
  },
  {
   "cell_type": "code",
   "execution_count": 18,
   "metadata": {},
   "outputs": [],
   "source": [
    "# no entities for market with NER from spacy"
   ]
  },
  {
   "cell_type": "code",
   "execution_count": 16,
   "metadata": {},
   "outputs": [
    {
     "name": "stdout",
     "output_type": "stream",
     "text": [
      "there is  163  labeled relations for 'operates in market'\n"
     ]
    }
   ],
   "source": [
    "print(\"there is \",len(count[rel[8]]),\" labeled relations for 'operates in market'\")"
   ]
  },
  {
   "cell_type": "markdown",
   "metadata": {},
   "source": [
    "# Based in"
   ]
  },
  {
   "cell_type": "code",
   "execution_count": 19,
   "metadata": {},
   "outputs": [
    {
     "name": "stdout",
     "output_type": "stream",
     "text": [
      "([{'id': 'afp.com-20210421T110000Z-TX-PAR-VLN52.txt', 'relation': 'LAUNCH_PRODUCT-SERVICE', 'sentence': Fluence global headquarters are based in Austin, Texas, with its EMEA headquarters in Rotterdam, Netherlands., 'entityA': [EMEA], 'entityB': []}, {'id': 'afp.com-20210106T143000Z-TX-PAR-RZW42.txt', 'relation': 'LAUNCH_PRODUCT-SERVICE', 'sentence': HempFusion's CBD products are based on a proprietary Whole Food Hemp Complex? and are available in-store or by visiting HempFusion online at www.hempfusion.com or www.probulin.com., 'entityA': [HempFusion], 'entityB': []}, {'id': 'afp.com-20210331T060000Z-TX-PAR-UTV04.txt', 'relation': 'LAUNCH_PRODUCT-SERVICE', 'sentence': These forward-looking statements are based on assumptions about many important factors, including the following, which could cause actual results to differ materially from those expressed or implied by the forward-looking statements: the economic circumstances surrounding Takeda's global business, including general economic conditions in Japan and the United States; competitive pressures and developments; changes to applicable laws and regulations, including global health care reforms; challenges inherent in new product development, including uncertainty of clinical success and decisions of regulatory authorities and the timing thereof; uncertainty of commercial success for new and existing products; manufacturing difficulties or delays; fluctuations in interest and currency exchange rates; claims or concerns regarding the safety or efficacy of marketed products or product candidates; the impact of health crises, like the novel coronavirus pandemic, on Takeda and its customers and suppliers, including foreign governments in countries in which Takeda operates, or on other facets of its business; the timing and impact of post-merger integration efforts with acquired companies; the ability to divest assets that are not core to Takeda's operations and the timing of any such divestment(s); and other factors identified in Takeda's most recent Annual Report on Form 20-F and Takeda's other reports filed with the U.S. Securities and Exchange Commission, available on Takeda's website at: https://www.takeda.com/investors/sec-filings/ or at www.sec.gov., 'entityA': [Takeda], 'entityB': [Takeda, Takeda, Takeda, Takeda, Takeda]}], []) ([], []) ([], [])\n"
     ]
    }
   ],
   "source": [
    "svo=ext.extract_SVO(\"LAUNCH_PRODUCT-SERVICE\",[\"is\",\"settle\",'base'],[\"ORG\"],[\"LOC\"])\n",
    "att=ext.attribute_pattern(\"LAUNCH_PRODUCT-SERVICE\",[\"headquarter\"],[\"ORG\"],[\"LOC\"])\n",
    "acl=ext.acl_pattern(\"LAUNCH_PRODUCT-SERVICE\",[\"is\",\"settle\",'base'],[\"ORG\"],[\"LOC\"])\n",
    "print(svo,att,acl)"
   ]
  },
  {
   "cell_type": "code",
   "execution_count": 17,
   "metadata": {},
   "outputs": [
    {
     "name": "stdout",
     "output_type": "stream",
     "text": [
      "there is  38  labeled relations for 'based-in'\n"
     ]
    }
   ],
   "source": [
    "print(\"there is \",len(count[rel[9]]),\" labeled relations for 'based-in'\")"
   ]
  },
  {
   "cell_type": "markdown",
   "metadata": {},
   "source": [
    "# Works in"
   ]
  },
  {
   "cell_type": "code",
   "execution_count": 20,
   "metadata": {},
   "outputs": [
    {
     "name": "stdout",
     "output_type": "stream",
     "text": [
      "([], []) ([], []) ([], [])\n"
     ]
    }
   ],
   "source": [
    "svo=ext.extract_SVO(\"LAUNCH_PRODUCT-SERVICE\",[\"is\",\"settle\",'base'],[\"PERSON\"],[\"LOC\"])\n",
    "att=ext.attribute_pattern(\"LAUNCH_PRODUCT-SERVICE\",[\"work\"],[\"PERSON\"],[\"LOC\"])\n",
    "acl=ext.acl_pattern(\"LAUNCH_PRODUCT-SERVICE\",[\"is\",\"settle\",'base'],[\"PERSON\"],[\"LOC\"])\n",
    "print(svo,att,acl)"
   ]
  },
  {
   "cell_type": "code",
   "execution_count": 18,
   "metadata": {},
   "outputs": [
    {
     "name": "stdout",
     "output_type": "stream",
     "text": [
      "there is  85  labeled relations for 'works-in'\n"
     ]
    }
   ],
   "source": [
    "print(\"there is \",len(count[rel[10]]),\" labeled relations for 'works-in'\")"
   ]
  },
  {
   "cell_type": "code",
   "execution_count": null,
   "metadata": {},
   "outputs": [],
   "source": []
  }
 ],
 "metadata": {
  "kernelspec": {
   "display_name": "condakaggle",
   "language": "python",
   "name": "condakaggle"
  },
  "language_info": {
   "codemirror_mode": {
    "name": "ipython",
    "version": 3
   },
   "file_extension": ".py",
   "mimetype": "text/x-python",
   "name": "python",
   "nbconvert_exporter": "python",
   "pygments_lexer": "ipython3",
   "version": "3.8.11"
  },
  "orig_nbformat": 4,
  "vscode": {
   "interpreter": {
    "hash": "7e1998ff7f8aa20ada591c520b972326324e5ea05489af9e422744c7c09f6dad"
   }
  }
 },
 "nbformat": 4,
 "nbformat_minor": 2
}
