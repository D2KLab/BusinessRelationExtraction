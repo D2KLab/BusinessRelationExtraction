{
 "cells": [
  {
   "cell_type": "code",
   "execution_count": 2,
   "id": "fa4dd52a",
   "metadata": {},
   "outputs": [],
   "source": [
    "import os\n",
    "from os import listdir\n",
    "from os.path import isfile, join\n",
    "import numpy as np\n",
    "import pandas as pd\n",
    "import spacy\n",
    "import nltk\n",
    "from nltk.corpus import wordnet\n",
    "from extraction2 import extraction\n",
    "from save_datas import save_datas"
   ]
  },
  {
   "cell_type": "code",
   "execution_count": 3,
   "id": "8f884bc1",
   "metadata": {},
   "outputs": [],
   "source": [
    "root=os.getcwd()+'/final/coref0.45/'\n",
    "#corefdir=os.getcwd()+'/coref/'\n",
    "model_sm=\"en_core_web_trf\"\n",
    "test=save_datas(root, model_sm)\n",
    "tokens=test.compute_token(True)\n",
    "ext=extraction(tokens, tokens)"
   ]
  },
  {
   "cell_type": "markdown",
   "id": "487b0b41",
   "metadata": {},
   "source": [
    "# Partnership"
   ]
  },
  {
   "cell_type": "code",
   "execution_count": null,
   "id": "1d7288be",
   "metadata": {},
   "outputs": [],
   "source": []
  },
  {
   "cell_type": "code",
   "execution_count": null,
   "id": "4525ec80",
   "metadata": {},
   "outputs": [],
   "source": []
  },
  {
   "cell_type": "code",
   "execution_count": null,
   "id": "c6ba9232",
   "metadata": {},
   "outputs": [],
   "source": []
  },
  {
   "cell_type": "code",
   "execution_count": null,
   "id": "cff006c0",
   "metadata": {},
   "outputs": [],
   "source": []
  },
  {
   "cell_type": "code",
   "execution_count": null,
   "id": "4dc5220b",
   "metadata": {},
   "outputs": [],
   "source": []
  },
  {
   "cell_type": "code",
   "execution_count": null,
   "id": "4c382212",
   "metadata": {},
   "outputs": [],
   "source": []
  }
 ],
 "metadata": {
  "kernelspec": {
   "display_name": "trfspacy",
   "language": "python",
   "name": "trfspacy"
  },
  "language_info": {
   "codemirror_mode": {
    "name": "ipython",
    "version": 3
   },
   "file_extension": ".py",
   "mimetype": "text/x-python",
   "name": "python",
   "nbconvert_exporter": "python",
   "pygments_lexer": "ipython3",
   "version": "3.10.4"
  }
 },
 "nbformat": 4,
 "nbformat_minor": 5
}
