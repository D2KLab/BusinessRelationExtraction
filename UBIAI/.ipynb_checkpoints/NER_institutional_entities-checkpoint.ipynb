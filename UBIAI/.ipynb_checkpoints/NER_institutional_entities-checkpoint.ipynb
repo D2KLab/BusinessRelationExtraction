{
 "cells": [
  {
   "cell_type": "code",
   "execution_count": 1,
   "id": "d6b4da38",
   "metadata": {},
   "outputs": [],
   "source": [
    "import os\n",
    "from os import listdir\n",
    "from os.path import isfile, join\n",
    "import numpy as np\n",
    "import pandas as pd\n",
    "import spacy"
   ]
  },
  {
   "cell_type": "code",
   "execution_count": 2,
   "id": "8abf3379",
   "metadata": {},
   "outputs": [],
   "source": [
    "corefdir=os.getcwd()+'/coref0.45/'\n",
    "expdir=os.getcwd()+'/final/coref0.45/'\n",
    "nlp = spacy.load(\"en_core_web_trf\")\n"
   ]
  },
  {
   "cell_type": "code",
   "execution_count": 3,
   "id": "50aa5aec",
   "metadata": {},
   "outputs": [
    {
     "name": "stderr",
     "output_type": "stream",
     "text": [
      "/Users/romainbourgeois/miniconda3/envs/trf/lib/python3.10/site-packages/torch/autocast_mode.py:162: UserWarning: User provided device_type of 'cuda', but CUDA is not available. Disabling\n",
      "  warnings.warn('User provided device_type of \\'cuda\\', but CUDA is not available. Disabling')\n"
     ]
    }
   ],
   "source": [
    "files = [f for f in listdir(corefdir) if isfile(join(corefdir, f))]  # add products & persons maybe something else\n",
    "datas={}\n",
    "for f in files:\n",
    "    if f[-4:]=='.txt':\n",
    "        with open(corefdir+f, \"r\") as file:\n",
    "            data = file.read().replace(\"\\n\", \"\")\n",
    "        article = data.replace(u\"\\xa0\", u\" \")\n",
    "        text=nlp(article)\n",
    "        ents=[]\n",
    "        for j in text.ents:\n",
    "            if j.label_==\"ORG\":\n",
    "                ents.append(j)\n",
    "        for e in ents:\n",
    "            article=article.replace(str(e),\"ORG\")\n",
    "        ents=[]\n",
    "        for j in text.ents:\n",
    "            if j.label_==\"PERSON\":\n",
    "                ents.append(j)\n",
    "        for e in ents:\n",
    "            article=article.replace(str(e),\"PERSON\")\n",
    "        ents=[]\n",
    "        for j in text.ents:\n",
    "            if j.label_==\"PRODUCT\":\n",
    "                ents.append(j)\n",
    "        for e in ents:\n",
    "            article=article.replace(str(e),\"PRODUCT\")\n",
    "        datas[f]=article"
   ]
  },
  {
   "cell_type": "code",
   "execution_count": 4,
   "id": "91035a5c",
   "metadata": {},
   "outputs": [],
   "source": [
    "text_names = [f for f in datas.keys()]\n",
    "for i in text_names:\n",
    "    with open(expdir+i, mode = \"x\") as f:\n",
    "        f.write(datas[i])\n",
    "        f.close"
   ]
  },
  {
   "cell_type": "code",
   "execution_count": null,
   "id": "e5a96b68",
   "metadata": {},
   "outputs": [],
   "source": []
  },
  {
   "cell_type": "code",
   "execution_count": null,
   "id": "9797b4ba",
   "metadata": {},
   "outputs": [],
   "source": [
    " "
   ]
  },
  {
   "cell_type": "code",
   "execution_count": null,
   "id": "9477c83e",
   "metadata": {},
   "outputs": [],
   "source": []
  }
 ],
 "metadata": {
  "kernelspec": {
   "display_name": "trfspacy",
   "language": "python",
   "name": "trfspacy"
  },
  "language_info": {
   "codemirror_mode": {
    "name": "ipython",
    "version": 3
   },
   "file_extension": ".py",
   "mimetype": "text/x-python",
   "name": "python",
   "nbconvert_exporter": "python",
   "pygments_lexer": "ipython3",
   "version": "3.10.4"
  }
 },
 "nbformat": 4,
 "nbformat_minor": 5
}
