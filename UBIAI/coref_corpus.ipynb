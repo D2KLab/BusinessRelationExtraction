{
 "cells": [
  {
   "cell_type": "code",
   "execution_count": 1,
   "id": "9fff2c1c",
   "metadata": {},
   "outputs": [],
   "source": [
    "import neuralcoref\n",
    "import os\n",
    "from os import listdir\n",
    "from os.path import isfile, join\n",
    "import numpy as np\n",
    "import pandas as pd\n",
    "import spacy\n",
    "from coref_export import save_coref_datas"
   ]
  },
  {
   "cell_type": "code",
   "execution_count": 2,
   "id": "f4c3d93b",
   "metadata": {},
   "outputs": [],
   "source": [
    "root=os.getcwd()+'/benchmarks/'\n",
    "corefdir=os.getcwd()+'/coref0.5/'\n",
    "model_sm=\"en_core_web_sm\"\n",
    "\n",
    "im=save_coref_datas(root, corefdir, model_sm, 0.5)"
   ]
  },
  {
   "cell_type": "code",
   "execution_count": 3,
   "id": "dd3eaac4",
   "metadata": {},
   "outputs": [],
   "source": [
    "tokens=im.compute_token(False) \n",
    "coref=im.save_coref(tokens)"
   ]
  },
  {
   "cell_type": "code",
   "execution_count": 4,
   "id": "95e903c1",
   "metadata": {},
   "outputs": [],
   "source": [
    "text_names = [f for f in coref.keys()]\n",
    "for i in text_names:\n",
    "    with open(corefdir+i, mode = \"x\") as f:\n",
    "        f.write(coref[i])\n",
    "        f.close"
   ]
  },
  {
   "cell_type": "code",
   "execution_count": null,
   "id": "bbfa800a",
   "metadata": {},
   "outputs": [],
   "source": []
  },
  {
   "cell_type": "code",
   "execution_count": null,
   "id": "c72353ec",
   "metadata": {},
   "outputs": [],
   "source": []
  }
 ],
 "metadata": {
  "kernelspec": {
   "display_name": "coref3.7",
   "language": "python",
   "name": "coref3.7"
  },
  "language_info": {
   "codemirror_mode": {
    "name": "ipython",
    "version": 3
   },
   "file_extension": ".py",
   "mimetype": "text/x-python",
   "name": "python",
   "nbconvert_exporter": "python",
   "pygments_lexer": "ipython3",
   "version": "3.7.9"
  }
 },
 "nbformat": 4,
 "nbformat_minor": 5
}
