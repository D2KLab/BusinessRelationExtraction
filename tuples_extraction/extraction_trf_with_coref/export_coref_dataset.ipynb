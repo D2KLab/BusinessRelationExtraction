{
 "cells": [
  {
   "cell_type": "code",
   "execution_count": 1,
   "id": "114dafcf",
   "metadata": {},
   "outputs": [],
   "source": [
    "import os\n",
    "from os import listdir\n",
    "from os.path import isfile, join\n",
    "import numpy as np\n",
    "import pandas as pd\n",
    "import spacy"
   ]
  },
  {
   "cell_type": "code",
   "execution_count": 2,
   "id": "0c084069",
   "metadata": {},
   "outputs": [],
   "source": [
    "os.chdir(os.path.dirname(os.getcwd()))\n",
    "rootdir=os.getcwd()+'/dataset/' \n",
    "directories=[]\n",
    "for file in os.listdir(rootdir):\n",
    "    d = os.path.join(rootdir, file)\n",
    "    if os.path.isdir(d):\n",
    "        directories.append(d)"
   ]
  },
  {
   "cell_type": "code",
   "execution_count": 3,
   "id": "e21df496",
   "metadata": {},
   "outputs": [],
   "source": [
    "datas={}\n",
    "nlp = spacy.load(\"en_core_web_sm\")\n",
    "import neuralcoref\n",
    "neuralcoref.add_to_pipe(nlp)\n",
    "nlp_ = spacy.load(\"en_core_web_sm\")\n",
    "for i in directories:\n",
    "    pref=str(i.split('/')[-1])\n",
    "    files = [f for f in listdir(i) if isfile(join(i, f))]\n",
    "    for f in files:\n",
    "        if f[-4:]=='.txt':\n",
    "            suf=f[:-4]\n",
    "            name=pref+suf\n",
    "            with open(i+'/'+f, \"r\") as file:\n",
    "                data = file.read().replace(\"\\n\", \"\")\n",
    "            article = data.replace(u\"\\xa0\", u\" \")\n",
    "            datas[name]=nlp(article)._.coref_resolved"
   ]
  },
  {
   "cell_type": "code",
   "execution_count": 4,
   "id": "cbe440d5",
   "metadata": {},
   "outputs": [],
   "source": [
    "text_names = [f for f in datas.keys()]"
   ]
  },
  {
   "cell_type": "code",
   "execution_count": 11,
   "id": "3d9db136",
   "metadata": {},
   "outputs": [],
   "source": [
    "for i in text_names:\n",
    "    with open(\"extraction_trf_with_coref/coref_data/\"+i+\".txt\", mode = \"x\") as f:\n",
    "        f.write(datas[i])\n",
    "        f.close"
   ]
  },
  {
   "cell_type": "code",
   "execution_count": 12,
   "id": "70435245",
   "metadata": {},
   "outputs": [
    {
     "data": {
      "text/plain": [
       "101"
      ]
     },
     "execution_count": 12,
     "metadata": {},
     "output_type": "execute_result"
    }
   ],
   "source": [
    "len(text_names)"
   ]
  },
  {
   "cell_type": "code",
   "execution_count": null,
   "id": "c96503ce",
   "metadata": {},
   "outputs": [],
   "source": []
  },
  {
   "cell_type": "code",
   "execution_count": null,
   "id": "b96220b6",
   "metadata": {},
   "outputs": [],
   "source": []
  },
  {
   "cell_type": "code",
   "execution_count": null,
   "id": "ec45dd60",
   "metadata": {},
   "outputs": [],
   "source": []
  },
  {
   "cell_type": "code",
   "execution_count": null,
   "id": "8bab2e35",
   "metadata": {},
   "outputs": [],
   "source": []
  },
  {
   "cell_type": "code",
   "execution_count": null,
   "id": "e9f1fe31",
   "metadata": {},
   "outputs": [],
   "source": []
  },
  {
   "cell_type": "code",
   "execution_count": null,
   "id": "e90da5f0",
   "metadata": {},
   "outputs": [],
   "source": []
  },
  {
   "cell_type": "code",
   "execution_count": null,
   "id": "62d91504",
   "metadata": {},
   "outputs": [],
   "source": []
  },
  {
   "cell_type": "code",
   "execution_count": null,
   "id": "b20b1ae7",
   "metadata": {},
   "outputs": [],
   "source": []
  }
 ],
 "metadata": {
  "kernelspec": {
   "display_name": "coref3.7",
   "language": "python",
   "name": "coref3.7"
  },
  "language_info": {
   "codemirror_mode": {
    "name": "ipython",
    "version": 3
   },
   "file_extension": ".py",
   "mimetype": "text/x-python",
   "name": "python",
   "nbconvert_exporter": "python",
   "pygments_lexer": "ipython3",
   "version": "3.7.9"
  }
 },
 "nbformat": 4,
 "nbformat_minor": 5
}
