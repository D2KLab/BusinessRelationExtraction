{
 "cells": [
  {
   "cell_type": "code",
   "execution_count": 1,
   "id": "b0e2528c",
   "metadata": {},
   "outputs": [],
   "source": [
    "import os\n",
    "from os import listdir\n",
    "from os.path import isfile, join\n",
    "import numpy as np\n",
    "import pandas as pd\n",
    "import spacy\n",
    "import nltk\n",
    "from nltk.corpus import wordnet"
   ]
  },
  {
   "cell_type": "code",
   "execution_count": 2,
   "id": "b4e73693",
   "metadata": {},
   "outputs": [],
   "source": [
    "os.chdir(os.path.dirname(os.getcwd()))\n",
    "rootdir=os.getcwd()+'/dataset/' \n",
    "directories=[]\n",
    "for file in os.listdir(rootdir):\n",
    "    d = os.path.join(rootdir, file)\n",
    "    if os.path.isdir(d):\n",
    "        directories.append(d)"
   ]
  },
  {
   "cell_type": "code",
   "execution_count": 12,
   "id": "c2744966",
   "metadata": {},
   "outputs": [],
   "source": [
    "datas={}\n",
    "nlp = spacy.load(\"en_core_web_sm\")\n",
    "import neuralcoref\n",
    "neuralcoref.add_to_pipe(nlp)\n",
    "nlp_ = spacy.load(\"en_core_web_sm\")\n",
    "for i in directories:\n",
    "    pref=str(i.split('/')[-1])\n",
    "    files = [f for f in listdir(i) if isfile(join(i, f))]\n",
    "    for f in files:\n",
    "        if f[-4:]=='.txt':\n",
    "            suf=f[:-4]\n",
    "            name=pref+suf\n",
    "            with open(i+'/'+f, \"r\") as file:\n",
    "                data = file.read().replace(\"\\n\", \"\")\n",
    "            article = data.replace(u\"\\xa0\", u\" \")\n",
    "            datas[name]=nlp(article)\n",
    "        "
   ]
  },
  {
   "cell_type": "code",
   "execution_count": 4,
   "id": "199f8cf8",
   "metadata": {},
   "outputs": [
    {
     "data": {
      "text/plain": [
       "'America Movil dips on pay TV permit snag, minor impact seenThe logo of America Movil is pictured on the wall at a reception area in America Movil\\'s corporate offices, in Mexico City, Mexico January 25, 2022. REUTERS/Gustavo Graf/File PhotoMEXICO CITY, Jan 27 (Reuters) - Shares of Mexican telecoms giant America Movil fell on Thursday after a regulator scuttled America Movil long-term goal to enter the local pay TV market, raising speculation over the next moves by the company controlled by the family of Mexican tycoon Carlos Slim.The stock dropped 3.94%, the biggest daily dip since September, exceeding the 1% decline in Mexico\\'s S&P/BMV IPC (.MXX), but analysts noted even broader losses on financial markets.The Mexican telecom industry regulator, the Federal Telecommunications Institute (IFT), concluded a vote on Wednesday without authorizing America Movil a pay TV license in that country, a source with knowledge of the process told REUTERS/.REUTERS/ is already Latin America\\'s largest pay TV provider, with markets that include Brazil and Colombia.The IFT and America Movil America Movil declined to comment.\"I think now the real negotiations happen behind the scenes,\" said Roger Entner, an analyst at Recon Analytics. \"Carlos Slim .... is not going to give up. Carlos Slim\\'s pulled so many rabbits out of a hat, you lose count.\"Deemed a \"preponderant agent\" by the IFT due to the IFT market share, America Movil had been barred from providing pay TV in Mexico since the privatization of state telecom firm Telmex in the early 1990s. That later evolved into America .Chief Executive Officer Daniel Hajj had spoken of America Movil ambition to get the permit by the end of last year.However, U.S. officials this month voiced concern to Mexican officials about competition if America Movil was granted the license, Reuters exclusively reported.America Movil executives later called a news conference to say America Movil executives wanted to meet U.S. officials to discuss America Movil executives plans.Reuters had pledged added investment of 8 billion pesos ($387 million) to expand Reuters fiber optic network if Reuters got the green light to enter pay TV.Entner at Recon Analytics said he believed Reuters would still invest the money. \"You\\'re not going to cut off the nose to spite the face,\" he added.The failure to get a pay TV permit is unlikely to have a major financial impact, analysts said.\"We believe the outlook is favorable for America Movil due to valuations, financial leverage,\" said independent analyst Carlos Hernandez. \"In general, the view remains positive.\"Slim\\'s good relations with President Andres Manuel Lopez Obrador may help, analysts said.The tycoon\\'s construction arm Grupo Carso had come under fire for The tycoon\\'s construction arm Grupo Carso role the building of a Mexico City metro railway line that collapsed in May, killing 26 people.The tycoon\\'s construction arm Grupo Carso pledged to rebuild the damaged stretch at no cost to the government after an independent auditor found that missing bolts and poor welding contributed to the crash.Slim and President Andres Manuel Lopez Obrador are likely to act in accordance with longer term interests than the short term, said Ernesto Piedras, head of Latin American market consultancy The CIU. \"I don\\'t think there\\'s a fracture.\"Reporting by Cassandra Garrison; additional reporting by Miguel Angel Gutierrez and Kylie Madry; Editing by Bernard Orr and Richard Chang'"
      ]
     },
     "execution_count": 4,
     "metadata": {},
     "output_type": "execute_result"
    }
   ],
   "source": [
    "datas['reuters2ea97a0695a79edc852ba9565bfe7220']._.coref_resolved"
   ]
  },
  {
   "cell_type": "code",
   "execution_count": 11,
   "id": "4afbb683",
   "metadata": {},
   "outputs": [
    {
     "data": {
      "text/plain": [
       "[America Movil: [America Movil, America Movil, the company, America Movil, its, America Movil, America Movil, Movil, America Movil, America Movil, America Movil, America Movil's, America Movil, America Movil, America Movil],\n",
       " Mexico: [Mexico, Mexico],\n",
       " REUTERS/: [REUTERS/, Reuters, The company],\n",
       " Mexican: [Mexican, Mexican],\n",
       " Carlos Slim: [Carlos Slim, Carlos Slim, He],\n",
       " America: [America, America],\n",
       " the IFT: [the IFT, its],\n",
       " U.S.: [U.S., U.S.],\n",
       " Reuters: [Reuters, The firm, its, it, the company],\n",
       " America Movil executives: [America Movil executives, they, their],\n",
       " he: [he, he],\n",
       " President Andres Manuel Lopez Obrador: [President Andres Manuel Lopez Obrador, Lopez Obrador],\n",
       " The tycoon's construction arm Grupo Carso: [The tycoon's construction arm Grupo Carso, its, Carso]]"
      ]
     },
     "execution_count": 11,
     "metadata": {},
     "output_type": "execute_result"
    }
   ],
   "source": [
    "datas['reuters2ea97a0695a79edc852ba9565bfe7220']._.coref_clusters"
   ]
  },
  {
   "cell_type": "code",
   "execution_count": 5,
   "id": "c0f65b10",
   "metadata": {},
   "outputs": [
    {
     "data": {
      "text/plain": [
       "America Movil dips on pay TV permit snag, minor impact seenThe logo of America Movil is pictured on the wall at a reception area in the company's corporate offices, in Mexico City, Mexico January 25, 2022. REUTERS/Gustavo Graf/File PhotoMEXICO CITY, Jan 27 (Reuters) - Shares of Mexican telecoms giant America Movil fell on Thursday after a regulator scuttled its long-term goal to enter the local pay TV market, raising speculation over the next moves by the company controlled by the family of Mexican tycoon Carlos Slim.The stock dropped 3.94%, the biggest daily dip since September, exceeding the 1% decline in Mexico's S&P/BMV IPC (.MXX), but analysts noted even broader losses on financial markets.The Mexican telecom industry regulator, the Federal Telecommunications Institute (IFT), concluded a vote on Wednesday without authorizing America Movil a pay TV license in that country, a source with knowledge of the process told Reuters.The company is already Latin America's largest pay TV provider, with markets that include Brazil and Colombia.The IFT and America Movil declined to comment.\"I think now the real negotiations happen behind the scenes,\" said Roger Entner, an analyst at Recon Analytics. \"Carlos Slim .... is not going to give up. He's pulled so many rabbits out of a hat, you lose count.\"Deemed a \"preponderant agent\" by the IFT due to its market share, America Movil had been barred from providing pay TV in Mexico since the privatization of state telecom firm Telmex in the early 1990s. That later evolved into America Movil.Chief Executive Officer Daniel Hajj had spoken of America Movil's ambition to get the permit by the end of last year.However, U.S. officials this month voiced concern to Mexican officials about competition if America Movil was granted the license, Reuters exclusively reported.America Movil executives later called a news conference to say they wanted to meet U.S. officials to discuss their plans.The firm had pledged added investment of 8 billion pesos ($387 million) to expand its fiber optic network if it got the green light to enter pay TV.Entner at Recon Analytics said he believed the company would still invest the money. \"You're not going to cut off the nose to spite the face,\" he added.The failure to get a pay TV permit is unlikely to have a major financial impact, analysts said.\"We believe the outlook is favorable for America Movil due to valuations, financial leverage,\" said independent analyst Carlos Hernandez. \"In general, the view remains positive.\"Slim's good relations with President Andres Manuel Lopez Obrador may help, analysts said.The tycoon's construction arm Grupo Carso had come under fire for its role the building of a Mexico City metro railway line that collapsed in May, killing 26 people.Carso pledged to rebuild the damaged stretch at no cost to the government after an independent auditor found that missing bolts and poor welding contributed to the crash.Slim and Lopez Obrador are likely to act in accordance with longer term interests than the short term, said Ernesto Piedras, head of Latin American market consultancy The CIU. \"I don't think there's a fracture.\"Reporting by Cassandra Garrison; additional reporting by Miguel Angel Gutierrez and Kylie Madry; Editing by Bernard Orr and Richard Chang"
      ]
     },
     "execution_count": 5,
     "metadata": {},
     "output_type": "execute_result"
    }
   ],
   "source": [
    "datas['reuters2ea97a0695a79edc852ba9565bfe7220']"
   ]
  },
  {
   "cell_type": "code",
   "execution_count": 6,
   "id": "63a9805d",
   "metadata": {},
   "outputs": [],
   "source": [
    "text_names = [f for f in datas.keys()]"
   ]
  },
  {
   "cell_type": "code",
   "execution_count": 7,
   "id": "c5211d9c",
   "metadata": {},
   "outputs": [],
   "source": [
    "def list_entities(text):\n",
    "    ents_=text.ents\n",
    "    ents=[]\n",
    "    for x in ents_:\n",
    "        if x.text not in ents:\n",
    "            if x.label_==\"ORG\" or x.label_==\"PRODUCT\" or x.label_==\"GPE\":\n",
    "                ents.append(x.text)\n",
    "    return ents\n",
    "\n",
    "\n",
    "def find_org(s, ents):\n",
    "    i=0\n",
    "    ind=[]\n",
    "    for token in s:\n",
    "        if str(token) in ents: \n",
    "            ind.append(i)\n",
    "        i=i+1\n",
    "    return ind\n",
    "\n",
    "def check_synonym_SVO(s, list_):\n",
    "    for token in s:\n",
    "        if token.dep_==\"ROOT\":\n",
    "            lem=token.lemma_\n",
    "            if lem in list_:\n",
    "                return True\n",
    "            else:\n",
    "                return False      \n",
    "\n",
    "def find_sbj(s, ind):\n",
    "    subjects=[]\n",
    "    for i in ind:\n",
    "        if s[i].dep_==\"nsubj\":\n",
    "            subjects.append(s[i])\n",
    "        elif s[i].head.dep_==\"nsubj\": # walk one step up the dependency tree \n",
    "            subjects.append(s[i])\n",
    "        else:\n",
    "            continue # could move one more step up the dependency tree if we condition was came up before (excluding object and verbs)\n",
    "    return subjects\n",
    "\n",
    "def find_nsubjpass(s, ind):\n",
    "    subjects=[]\n",
    "    for i in ind:\n",
    "        if s[i].dep_==\"nsubjpass\":\n",
    "            subjects.append(s[i])\n",
    "        elif s[i].head.dep_==\"nsubjpass\": # walk one step up the dependency tree \n",
    "            subjects.append(s[i])\n",
    "        else:\n",
    "            continue # could move one more step up the dependency tree if we condition was came up before (excluding object and verbs)\n",
    "    return subjects\n",
    "            \n",
    "def find_obj(s, ind):\n",
    "    subjects=[]\n",
    "    for i in ind:\n",
    "        if s[i].dep_==\"dobj\" or s[i].dep_==\"pobj\":\n",
    "            subjects.append(s[i])\n",
    "        elif s[i].head.dep_==\"dobj\" or s[i].head.dep_==\"pobj\": # walk one step up the dependency tree \n",
    "            subjects.append(s[i])\n",
    "        else:\n",
    "            continue\n",
    "    return subjects\n",
    "\n",
    "def check_synonym_attr(s, list_):\n",
    "    for token in s:\n",
    "        if token.dep_==\"attr\":\n",
    "            lem=token.lemma_\n",
    "            if lem in list_:\n",
    "                return True\n",
    "            else:\n",
    "                return False\n",
    "            \n",
    "def find_obj_attr(s, ind):\n",
    "    subjects=[]\n",
    "    for i in ind:\n",
    "        if s[i].dep_==\"pobj\":\n",
    "            subjects.append(s[i])\n",
    "        elif s[i].head.dep_==\"pobj\": # walk one step up the dependency tree \n",
    "            subjects.append(s[i])\n",
    "        else:\n",
    "            continue\n",
    "    return subjects\n",
    "\n",
    "def check_synonym_acl(s, list_):\n",
    "    for token in s:\n",
    "        if token.dep_==\"acl\":\n",
    "            lem=token.lemma_\n",
    "            if lem in list_:\n",
    "                return True\n",
    "            else:\n",
    "                return False  \n",
    "\n",
    "def find_obj_acl(s, ind):\n",
    "    subjects=[]\n",
    "    for i in ind:\n",
    "        if s[i].dep_==\"pobj\":\n",
    "            subjects.append(s[i])\n",
    "        elif s[i].head.dep_==\"pobj\": # walk one step up the dependency tree \n",
    "            subjects.append(s[i])\n",
    "        else:\n",
    "            continue\n",
    "    return subjects"
   ]
  },
  {
   "cell_type": "code",
   "execution_count": null,
   "id": "73f8fda5",
   "metadata": {},
   "outputs": [],
   "source": []
  },
  {
   "cell_type": "markdown",
   "id": "61b1ff6a",
   "metadata": {},
   "source": [
    "# SVO"
   ]
  },
  {
   "cell_type": "markdown",
   "id": "52de34e9",
   "metadata": {},
   "source": [
    "Get synonyms"
   ]
  },
  {
   "cell_type": "code",
   "execution_count": 8,
   "id": "697a87c2",
   "metadata": {},
   "outputs": [
    {
     "name": "stdout",
     "output_type": "stream",
     "text": [
      "['compete', 'vie', 'contend']\n",
      "[]\n"
     ]
    }
   ],
   "source": [
    "synonyms = []\n",
    "antonyms = []\n",
    "  \n",
    "for syn in wordnet.synsets(\"compete\"):\n",
    "    for l in syn.lemmas():\n",
    "        synonyms.append(l.name())\n",
    "        if l.antonyms():\n",
    "            antonyms.append(l.antonyms()[0].name())\n",
    "print(synonyms)\n",
    "print(antonyms)"
   ]
  },
  {
   "cell_type": "code",
   "execution_count": 13,
   "id": "3e919ff9",
   "metadata": {},
   "outputs": [],
   "source": [
    "tuples=[]\n",
    "relation=\"competitors\"\n",
    "synonyms=[\"compete\",\"challenge\",\"clash\"] # have is too misleading\n",
    "for i in text_names:\n",
    "    text=datas[i]._.coref_resolved\n",
    "    text=nlp_(text)\n",
    "    ents=list_entities(text)\n",
    "    for s in text.sents:\n",
    "        dict_={}\n",
    "        org=find_org(s,ents)\n",
    "        if len(org)>=2:\n",
    "            SVO=check_synonym_SVO(s,synonyms)\n",
    "            if SVO==True:\n",
    "                sbj=find_sbj(s,org)\n",
    "                if len(sbj)>0: \n",
    "                    obj=find_obj(s,org)\n",
    "                    if len(obj)>0:\n",
    "                        dict_['relation']=relation\n",
    "                        ## add ID later dict_['relation']\n",
    "                        dict_['sentence']=s\n",
    "                        dict_['entities_A']=sbj\n",
    "                        dict_['entities_B']=obj\n",
    "                        tuples.append(dict_)\n",
    "                else:\n",
    "                    nsubjpass=find_nsubjpass(s,org)\n",
    "                    if len(nsubjpass)>0:\n",
    "                        obj=find_obj(s,org)\n",
    "                        if len(obj)>0:\n",
    "                            dict_['relation']=relation\n",
    "                            ## add ID later dict_['relation']\n",
    "                            dict_['sentence']=s\n",
    "                            dict_['entities_A']=obj\n",
    "                            dict_['entities_B']=sbj\n",
    "                            tuples.append(dict_)\n",
    "                    else:\n",
    "                        continue\n",
    "            else:\n",
    "                continue\n",
    "        else:\n",
    "            continue    "
   ]
  },
  {
   "cell_type": "code",
   "execution_count": 14,
   "id": "ffb6f521",
   "metadata": {},
   "outputs": [
    {
     "data": {
      "text/plain": [
       "0"
      ]
     },
     "execution_count": 14,
     "metadata": {},
     "output_type": "execute_result"
    }
   ],
   "source": [
    "len(tuples)"
   ]
  },
  {
   "cell_type": "code",
   "execution_count": 15,
   "id": "27cb32ef",
   "metadata": {},
   "outputs": [
    {
     "data": {
      "text/plain": [
       "[]"
      ]
     },
     "execution_count": 15,
     "metadata": {},
     "output_type": "execute_result"
    }
   ],
   "source": [
    "tuples"
   ]
  },
  {
   "cell_type": "code",
   "execution_count": null,
   "id": "b8d3d59e",
   "metadata": {},
   "outputs": [],
   "source": []
  },
  {
   "cell_type": "markdown",
   "id": "1e6bfd5c",
   "metadata": {},
   "source": [
    "# attributes kind of patterns"
   ]
  },
  {
   "cell_type": "code",
   "execution_count": 16,
   "id": "7fb9d4b5",
   "metadata": {},
   "outputs": [
    {
     "name": "stdout",
     "output_type": "stream",
     "text": [
      "['rival', 'challenger', 'competitor', 'competition', 'contender']\n",
      "[]\n"
     ]
    }
   ],
   "source": [
    "synonyms = []\n",
    "antonyms = []\n",
    "  \n",
    "for syn in wordnet.synsets(\"competitors\"):\n",
    "    for l in syn.lemmas():\n",
    "        synonyms.append(l.name())\n",
    "        if l.antonyms():\n",
    "            antonyms.append(l.antonyms()[0].name())\n",
    "print(synonyms)\n",
    "print(antonyms)"
   ]
  },
  {
   "cell_type": "code",
   "execution_count": 17,
   "id": "044005b4",
   "metadata": {},
   "outputs": [],
   "source": [
    "tuples=[]\n",
    "relation=\"competitors\"  \n",
    "synonyms=[\"competitor\",\"rival\",\"challenger\",\"contender\"]\n",
    "for i in text_names:\n",
    "    text=datas[i]._.coref_resolved\n",
    "    text=nlp_(text)\n",
    "    ents=list_entities(text)\n",
    "    for s in text.sents:\n",
    "        dict_={}\n",
    "        org=find_org(s,ents)\n",
    "        if len(org)>=2:\n",
    "            attr=check_synonym_attr(s,synonyms)\n",
    "            if attr==True:\n",
    "                sbj=find_sbj(s,org)\n",
    "                if len(sbj)>0: \n",
    "                    obj=find_obj_attr(s,org)\n",
    "                    if len(obj)>0:\n",
    "                        dict_['relation']=relation\n",
    "                        ## add ID later dict_['relation']\n",
    "                        dict_['sentence']=s\n",
    "                        dict_['entities_A']=sbj\n",
    "                        dict_['entities_B']=obj\n",
    "                        tuples.append(dict_)"
   ]
  },
  {
   "cell_type": "code",
   "execution_count": 18,
   "id": "ae2bbafc",
   "metadata": {},
   "outputs": [
    {
     "data": {
      "text/plain": [
       "[]"
      ]
     },
     "execution_count": 18,
     "metadata": {},
     "output_type": "execute_result"
    }
   ],
   "source": [
    "tuples"
   ]
  },
  {
   "cell_type": "code",
   "execution_count": null,
   "id": "ff1f09cd",
   "metadata": {},
   "outputs": [],
   "source": []
  },
  {
   "cell_type": "markdown",
   "id": "f09d6f0f",
   "metadata": {},
   "source": [
    "# ACL based"
   ]
  },
  {
   "cell_type": "code",
   "execution_count": 19,
   "id": "78d22b9b",
   "metadata": {},
   "outputs": [],
   "source": [
    "tuples=[]\n",
    "relation=\"ownership\"\n",
    "synonyms=[\"compete\",\"challenge\",\"clash\"] # have is too misleading\n",
    "for i in text_names:\n",
    "    text=datas[i]._.coref_resolved\n",
    "    text=nlp_(text)\n",
    "    ents=list_entities(text)\n",
    "    for s in text.sents:\n",
    "        dict_={}\n",
    "        org=find_org(s,ents)\n",
    "        if len(org)>=2:\n",
    "            acl=check_synonym_acl(s,synonyms)\n",
    "            if acl==True:\n",
    "                sbj=find_sbj(s,org)\n",
    "                if len(sbj)>0: \n",
    "                    obj=find_obj_acl(s,org)\n",
    "                    if len(obj)>0:\n",
    "                        dict_['relation']=relation\n",
    "                        ## add ID later dict_['relation']\n",
    "                        dict_['sentence']=s\n",
    "                        dict_['entities_A']=sbj\n",
    "                        dict_['entities_B']=obj\n",
    "                        tuples.append(dict_)"
   ]
  },
  {
   "cell_type": "code",
   "execution_count": 20,
   "id": "a09a049b",
   "metadata": {},
   "outputs": [
    {
     "data": {
      "text/plain": [
       "[]"
      ]
     },
     "execution_count": 20,
     "metadata": {},
     "output_type": "execute_result"
    }
   ],
   "source": [
    "tuples"
   ]
  },
  {
   "cell_type": "code",
   "execution_count": null,
   "id": "3a130aac",
   "metadata": {},
   "outputs": [],
   "source": []
  },
  {
   "cell_type": "code",
   "execution_count": null,
   "id": "73ffc114",
   "metadata": {},
   "outputs": [],
   "source": []
  }
 ],
 "metadata": {
  "kernelspec": {
   "display_name": "coref3.7",
   "language": "python",
   "name": "coref3.7"
  },
  "language_info": {
   "codemirror_mode": {
    "name": "ipython",
    "version": 3
   },
   "file_extension": ".py",
   "mimetype": "text/x-python",
   "name": "python",
   "nbconvert_exporter": "python",
   "pygments_lexer": "ipython3",
   "version": "3.7.9"
  }
 },
 "nbformat": 4,
 "nbformat_minor": 5
}
