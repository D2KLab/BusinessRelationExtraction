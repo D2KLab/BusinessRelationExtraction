{
 "cells": [
  {
   "cell_type": "code",
   "execution_count": 2,
   "id": "367bf168",
   "metadata": {},
   "outputs": [],
   "source": [
    "import os\n",
    "from os import listdir\n",
    "from os.path import isfile, join\n",
    "import numpy as np\n",
    "import pandas as pd\n",
    "import spacy\n",
    "import nltk\n",
    "from nltk.corpus import wordnet\n",
    "from extraction import extraction\n",
    "from save_datas import save_datas"
   ]
  },
  {
   "cell_type": "code",
   "execution_count": 3,
   "id": "56acc295",
   "metadata": {},
   "outputs": [
    {
     "ename": "AttributeError",
     "evalue": "'save_datas' object has no attribute 'extract_SVO'",
     "output_type": "error",
     "traceback": [
      "\u001b[0;31m---------------------------------------------------------------------------\u001b[0m",
      "\u001b[0;31mAttributeError\u001b[0m                            Traceback (most recent call last)",
      "Input \u001b[0;32mIn [3]\u001b[0m, in \u001b[0;36m<cell line: 6>\u001b[0;34m()\u001b[0m\n\u001b[1;32m      4\u001b[0m test\u001b[38;5;241m=\u001b[39msave_datas(\u001b[38;5;28;01mTrue\u001b[39;00m, root, corefdir, model_sm)\n\u001b[1;32m      5\u001b[0m tokens\u001b[38;5;241m=\u001b[39mtest\u001b[38;5;241m.\u001b[39mcompute_token()\n\u001b[0;32m----> 6\u001b[0m svo\u001b[38;5;241m=\u001b[39m\u001b[43mtest\u001b[49m\u001b[38;5;241;43m.\u001b[39;49m\u001b[43mextract_SVO\u001b[49m(\u001b[38;5;124m\"\u001b[39m\u001b[38;5;124mownership\u001b[39m\u001b[38;5;124m\"\u001b[39m,[\u001b[38;5;124m\"\u001b[39m\u001b[38;5;124mbuy\u001b[39m\u001b[38;5;124m\"\u001b[39m,\u001b[38;5;124m\"\u001b[39m\u001b[38;5;124macquire\u001b[39m\u001b[38;5;124m\"\u001b[39m,\u001b[38;5;124m\"\u001b[39m\u001b[38;5;124mpurchase\u001b[39m\u001b[38;5;124m\"\u001b[39m,\u001b[38;5;124m\"\u001b[39m\u001b[38;5;124mown\u001b[39m\u001b[38;5;124m\"\u001b[39m,\u001b[38;5;124m\"\u001b[39m\u001b[38;5;124mgain\u001b[39m\u001b[38;5;124m\"\u001b[39m,\u001b[38;5;124m\"\u001b[39m\u001b[38;5;124mpossess\u001b[39m\u001b[38;5;124m\"\u001b[39m],[\u001b[38;5;124m\"\u001b[39m\u001b[38;5;124mORG\u001b[39m\u001b[38;5;124m\"\u001b[39m],[\u001b[38;5;124m\"\u001b[39m\u001b[38;5;124mORG\u001b[39m\u001b[38;5;124m\"\u001b[39m])\n",
      "\u001b[0;31mAttributeError\u001b[0m: 'save_datas' object has no attribute 'extract_SVO'"
     ]
    }
   ],
   "source": [
    "root=os.getcwd()+'/dataset/'\n",
    "corefdir=os.getcwd()+'/coref/'\n",
    "model_sm=\"en_core_web_sm\"\n",
    "test1=save_datas(True, root, corefdir, model_sm)\n",
    "tokens=test.compute_token()\n",
    "coref= # define new function\n",
    "test2=extraction(tokens, )\n",
    "svo=test.extract_SVO(\"ownership\",[\"buy\",\"acquire\",\"purchase\",\"own\",\"gain\",\"possess\"],[\"ORG\"],[\"ORG\"])"
   ]
  },
  {
   "cell_type": "code",
   "execution_count": null,
   "id": "92123164",
   "metadata": {},
   "outputs": [],
   "source": []
  },
  {
   "cell_type": "code",
   "execution_count": null,
   "id": "520a8309",
   "metadata": {},
   "outputs": [],
   "source": []
  },
  {
   "cell_type": "code",
   "execution_count": null,
   "id": "1c9a46fb",
   "metadata": {},
   "outputs": [],
   "source": []
  },
  {
   "cell_type": "code",
   "execution_count": null,
   "id": "6f0452e2",
   "metadata": {},
   "outputs": [],
   "source": []
  }
 ],
 "metadata": {
  "kernelspec": {
   "display_name": "trfspacy",
   "language": "python",
   "name": "trfspacy"
  },
  "language_info": {
   "codemirror_mode": {
    "name": "ipython",
    "version": 3
   },
   "file_extension": ".py",
   "mimetype": "text/x-python",
   "name": "python",
   "nbconvert_exporter": "python",
   "pygments_lexer": "ipython3",
   "version": "3.10.4"
  }
 },
 "nbformat": 4,
 "nbformat_minor": 5
}
