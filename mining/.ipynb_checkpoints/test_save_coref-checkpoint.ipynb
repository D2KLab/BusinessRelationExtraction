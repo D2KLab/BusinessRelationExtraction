{
 "cells": [
  {
   "cell_type": "code",
   "execution_count": 1,
   "id": "ebbadea4",
   "metadata": {},
   "outputs": [],
   "source": [
    "import os\n",
    "from os import listdir\n",
    "from os.path import isfile, join\n",
    "import numpy as np\n",
    "import pandas as pd\n",
    "import spacy\n",
    "import nltk\n",
    "from nltk.corpus import wordnet\n",
    "from coref_export import save_coref_datas\n",
    "import neuralcoref"
   ]
  },
  {
   "cell_type": "code",
   "execution_count": 2,
   "id": "a7a09773",
   "metadata": {},
   "outputs": [],
   "source": [
    "root=os.getcwd()+'/dataset/'\n",
    "corefdir=os.getcwd()+'/coref/'\n",
    "model_sm=\"en_core_web_sm\"\n",
    "test=save_coref_datas(True, root, corefdir, model_sm)\n"
   ]
  },
  {
   "cell_type": "markdown",
   "id": "f4040db4",
   "metadata": {},
   "source": [
    "# Saving coreference resoluted files in dictionary"
   ]
  },
  {
   "cell_type": "code",
   "execution_count": 3,
   "id": "444627d8",
   "metadata": {},
   "outputs": [
    {
     "name": "stdout",
     "output_type": "stream",
     "text": [
      "--- 172.03659391403198 seconds ---\n"
     ]
    }
   ],
   "source": [
    "import time\n",
    "start_time = time.time()\n",
    "tokens=test.compute_token()\n",
    "coref=test.save_coref(tokens)\n",
    "print(\"--- %s seconds ---\" % (time.time() - start_time))"
   ]
  },
  {
   "cell_type": "code",
   "execution_count": 4,
   "id": "75b50375",
   "metadata": {},
   "outputs": [
    {
     "name": "stdout",
     "output_type": "stream",
     "text": [
      "--- 171.71596217155457 seconds ---\n"
     ]
    }
   ],
   "source": [
    "start_time = time.time()\n",
    "start_time2 = time.time()\n",
    "data=test.save_coref_without_compute_token()\n",
    "print(\"--- %s seconds ---\" % (time.time() - start_time))"
   ]
  },
  {
   "cell_type": "markdown",
   "id": "b7596713",
   "metadata": {},
   "source": [
    "Extract dictionary to directory"
   ]
  },
  {
   "cell_type": "code",
   "execution_count": 6,
   "id": "be7b9873",
   "metadata": {},
   "outputs": [
    {
     "name": "stdout",
     "output_type": "stream",
     "text": [
      "--- 242.71046996116638 seconds ---\n"
     ]
    }
   ],
   "source": [
    "text_names = [f for f in data.keys()]\n",
    "for i in text_names:\n",
    "    with open(corefdir+i, mode = \"x\") as f:\n",
    "        f.write(data[i])\n",
    "        f.close\n",
    "print(\"--- %s seconds ---\" % (time.time() - start_time2))"
   ]
  },
  {
   "cell_type": "markdown",
   "id": "89c0bbb6",
   "metadata": {},
   "source": [
    "don't pay attention to time, i made a break between running the two sells"
   ]
  },
  {
   "cell_type": "code",
   "execution_count": 7,
   "id": "02b8a511",
   "metadata": {},
   "outputs": [
    {
     "ename": "KeyError",
     "evalue": "\"Reporting by Cassandra Garrison; additional reporting by Miguel Angel Gutierrez and Kylie Madry; Editing by Bernard Orr and Richard Chang",
     "output_type": "error",
     "traceback": [
      "\u001b[0;31m---------------------------------------------------------------------------\u001b[0m",
      "\u001b[0;31mKeyError\u001b[0m                                  Traceback (most recent call last)",
      "\u001b[0;32m/var/folders/qx/m1pqz67d2f314g00hhxd570c0000gn/T/ipykernel_11306/3026888336.py\u001b[0m in \u001b[0;36m<module>\u001b[0;34m\u001b[0m\n\u001b[1;32m      1\u001b[0m \u001b[0;31m# Look at sentence mismatch\u001b[0m\u001b[0;34m\u001b[0m\u001b[0;34m\u001b[0m\u001b[0;34m\u001b[0m\u001b[0m\n\u001b[0;32m----> 2\u001b[0;31m \u001b[0mAv_sent_mismatch\u001b[0m\u001b[0;34m,\u001b[0m \u001b[0marticle_mismatched\u001b[0m\u001b[0;34m=\u001b[0m\u001b[0mtest\u001b[0m\u001b[0;34m.\u001b[0m\u001b[0mcompute_sents_metrics\u001b[0m\u001b[0;34m(\u001b[0m\u001b[0mtokens\u001b[0m\u001b[0;34m,\u001b[0m \u001b[0mcoref\u001b[0m\u001b[0;34m)\u001b[0m\u001b[0;34m\u001b[0m\u001b[0;34m\u001b[0m\u001b[0m\n\u001b[0m\u001b[1;32m      3\u001b[0m \u001b[0mprint\u001b[0m\u001b[0;34m(\u001b[0m\u001b[0;34m\"average sentences mismatch overall\"\u001b[0m\u001b[0;34m,\u001b[0m\u001b[0mAv_sent_mismatch\u001b[0m\u001b[0;34m,\u001b[0m \u001b[0;34m\"rate of article presenting a mismatch\"\u001b[0m\u001b[0;34m,\u001b[0m \u001b[0marticle_mismatched\u001b[0m\u001b[0;34m)\u001b[0m\u001b[0;34m\u001b[0m\u001b[0;34m\u001b[0m\u001b[0m\n",
      "\u001b[0;32m~/Desktop/BusinessRelationExtraction/mining/coref_export.py\u001b[0m in \u001b[0;36mcompute_sents_metrics\u001b[0;34m(self, tokens, corefs)\u001b[0m\n\u001b[1;32m     79\u001b[0m                 \u001b[0mt\u001b[0m\u001b[0;34m=\u001b[0m\u001b[0mt\u001b[0m\u001b[0;34m+\u001b[0m\u001b[0;36m1\u001b[0m\u001b[0;34m\u001b[0m\u001b[0;34m\u001b[0m\u001b[0m\n\u001b[1;32m     80\u001b[0m             \u001b[0mc\u001b[0m\u001b[0;34m=\u001b[0m\u001b[0;36m0\u001b[0m\u001b[0;34m\u001b[0m\u001b[0;34m\u001b[0m\u001b[0m\n\u001b[0;32m---> 81\u001b[0;31m             \u001b[0;32mfor\u001b[0m \u001b[0mi\u001b[0m \u001b[0;32min\u001b[0m \u001b[0mnlp_\u001b[0m\u001b[0;34m(\u001b[0m\u001b[0mtokens\u001b[0m\u001b[0;34m[\u001b[0m\u001b[0mi\u001b[0m\u001b[0;34m]\u001b[0m\u001b[0;34m)\u001b[0m\u001b[0;34m.\u001b[0m\u001b[0msents\u001b[0m\u001b[0;34m:\u001b[0m\u001b[0;34m\u001b[0m\u001b[0;34m\u001b[0m\u001b[0m\n\u001b[0m\u001b[1;32m     82\u001b[0m                 \u001b[0mc\u001b[0m\u001b[0;34m=\u001b[0m\u001b[0mc\u001b[0m\u001b[0;34m+\u001b[0m\u001b[0;36m1\u001b[0m\u001b[0;34m\u001b[0m\u001b[0;34m\u001b[0m\u001b[0m\n\u001b[1;32m     83\u001b[0m             \u001b[0mdifference_metric\u001b[0m\u001b[0;34m.\u001b[0m\u001b[0mappend\u001b[0m\u001b[0;34m(\u001b[0m\u001b[0mabs\u001b[0m\u001b[0;34m(\u001b[0m\u001b[0mt\u001b[0m\u001b[0;34m-\u001b[0m\u001b[0mc\u001b[0m\u001b[0;34m)\u001b[0m\u001b[0;34m)\u001b[0m\u001b[0;34m\u001b[0m\u001b[0;34m\u001b[0m\u001b[0m\n",
      "\u001b[0;31mKeyError\u001b[0m: \"Reporting by Cassandra Garrison; additional reporting by Miguel Angel Gutierrez and Kylie Madry; Editing by Bernard Orr and Richard Chang"
     ]
    }
   ],
   "source": [
    "# Look at sentence mismatch\n",
    "Av_sent_mismatch, article_mismatched=test.compute_sents_metrics(tokens, coref)\n",
    "print(\"average sentences mismatch overall\",Av_sent_mismatch, \"rate of article presenting a mismatch\", article_mismatched)"
   ]
  },
  {
   "cell_type": "markdown",
   "id": "31127438",
   "metadata": {},
   "source": [
    "# Saving coreference resoluted files directly in dictionary and sentence matching metrics"
   ]
  },
  {
   "cell_type": "code",
   "execution_count": 9,
   "id": "62367837",
   "metadata": {},
   "outputs": [
    {
     "ename": "KeyError",
     "evalue": "\"Reporting by Cassandra Garrison; additional reporting by Miguel Angel Gutierrez and Kylie Madry; Editing by Bernard Orr and Richard Chang",
     "output_type": "error",
     "traceback": [
      "\u001b[0;31m---------------------------------------------------------------------------\u001b[0m",
      "\u001b[0;31mKeyError\u001b[0m                                  Traceback (most recent call last)",
      "\u001b[0;32m/var/folders/qx/m1pqz67d2f314g00hhxd570c0000gn/T/ipykernel_11306/1571309840.py\u001b[0m in \u001b[0;36m<module>\u001b[0;34m\u001b[0m\n\u001b[1;32m      1\u001b[0m \u001b[0mstart_time\u001b[0m \u001b[0;34m=\u001b[0m \u001b[0mtime\u001b[0m\u001b[0;34m.\u001b[0m\u001b[0mtime\u001b[0m\u001b[0;34m(\u001b[0m\u001b[0;34m)\u001b[0m\u001b[0;34m\u001b[0m\u001b[0;34m\u001b[0m\u001b[0m\n\u001b[1;32m      2\u001b[0m \u001b[0mtokens\u001b[0m\u001b[0;34m=\u001b[0m\u001b[0mtest\u001b[0m\u001b[0;34m.\u001b[0m\u001b[0mcompute_token\u001b[0m\u001b[0;34m(\u001b[0m\u001b[0;34m)\u001b[0m\u001b[0;34m\u001b[0m\u001b[0;34m\u001b[0m\u001b[0m\n\u001b[0;32m----> 3\u001b[0;31m \u001b[0mAv_sent_mismatch\u001b[0m\u001b[0;34m,\u001b[0m \u001b[0marticle_mismatched\u001b[0m\u001b[0;34m=\u001b[0m\u001b[0mtest\u001b[0m\u001b[0;34m.\u001b[0m\u001b[0mcoref_to_dir\u001b[0m\u001b[0;34m(\u001b[0m\u001b[0mtokens\u001b[0m\u001b[0;34m)\u001b[0m\u001b[0;34m\u001b[0m\u001b[0;34m\u001b[0m\u001b[0m\n\u001b[0m\u001b[1;32m      4\u001b[0m \u001b[0mprint\u001b[0m\u001b[0;34m(\u001b[0m\u001b[0;34m\"average sentences mismatch overall\"\u001b[0m\u001b[0;34m,\u001b[0m\u001b[0mAv_sent_mismatch\u001b[0m\u001b[0;34m,\u001b[0m \u001b[0;34m\"rate of article presenting a mismatch\"\u001b[0m\u001b[0;34m,\u001b[0m \u001b[0marticle_mismatched\u001b[0m\u001b[0;34m)\u001b[0m\u001b[0;34m\u001b[0m\u001b[0;34m\u001b[0m\u001b[0m\n\u001b[1;32m      5\u001b[0m \u001b[0mprint\u001b[0m\u001b[0;34m(\u001b[0m\u001b[0;34m\"--- %s seconds ---\"\u001b[0m \u001b[0;34m%\u001b[0m \u001b[0;34m(\u001b[0m\u001b[0mtime\u001b[0m\u001b[0;34m.\u001b[0m\u001b[0mtime\u001b[0m\u001b[0;34m(\u001b[0m\u001b[0;34m)\u001b[0m \u001b[0;34m-\u001b[0m \u001b[0mstart_time\u001b[0m\u001b[0;34m)\u001b[0m\u001b[0;34m)\u001b[0m\u001b[0;34m\u001b[0m\u001b[0;34m\u001b[0m\u001b[0m\n",
      "\u001b[0;32m~/Desktop/BusinessRelationExtraction/mining/coref_export.py\u001b[0m in \u001b[0;36mcoref_to_dir\u001b[0;34m(self, tokens)\u001b[0m\n\u001b[1;32m    104\u001b[0m                 \u001b[0mt\u001b[0m\u001b[0;34m=\u001b[0m\u001b[0mt\u001b[0m\u001b[0;34m+\u001b[0m\u001b[0;36m1\u001b[0m\u001b[0;34m\u001b[0m\u001b[0;34m\u001b[0m\u001b[0m\n\u001b[1;32m    105\u001b[0m             \u001b[0mc\u001b[0m\u001b[0;34m=\u001b[0m\u001b[0;36m0\u001b[0m\u001b[0;34m\u001b[0m\u001b[0;34m\u001b[0m\u001b[0m\n\u001b[0;32m--> 106\u001b[0;31m             \u001b[0;32mfor\u001b[0m \u001b[0mi\u001b[0m \u001b[0;32min\u001b[0m \u001b[0mnlp_\u001b[0m\u001b[0;34m(\u001b[0m\u001b[0mtokens\u001b[0m\u001b[0;34m[\u001b[0m\u001b[0mi\u001b[0m\u001b[0;34m]\u001b[0m\u001b[0;34m)\u001b[0m\u001b[0;34m.\u001b[0m\u001b[0msents\u001b[0m\u001b[0;34m:\u001b[0m\u001b[0;34m\u001b[0m\u001b[0;34m\u001b[0m\u001b[0m\n\u001b[0m\u001b[1;32m    107\u001b[0m                 \u001b[0mc\u001b[0m\u001b[0;34m=\u001b[0m\u001b[0mc\u001b[0m\u001b[0;34m+\u001b[0m\u001b[0;36m1\u001b[0m\u001b[0;34m\u001b[0m\u001b[0;34m\u001b[0m\u001b[0m\n\u001b[1;32m    108\u001b[0m             \u001b[0mdifference_metric\u001b[0m\u001b[0;34m.\u001b[0m\u001b[0mappend\u001b[0m\u001b[0;34m(\u001b[0m\u001b[0mabs\u001b[0m\u001b[0;34m(\u001b[0m\u001b[0mt\u001b[0m\u001b[0;34m-\u001b[0m\u001b[0mc\u001b[0m\u001b[0;34m)\u001b[0m\u001b[0;34m)\u001b[0m\u001b[0;34m\u001b[0m\u001b[0;34m\u001b[0m\u001b[0m\n",
      "\u001b[0;31mKeyError\u001b[0m: \"Reporting by Cassandra Garrison; additional reporting by Miguel Angel Gutierrez and Kylie Madry; Editing by Bernard Orr and Richard Chang"
     ]
    }
   ],
   "source": [
    "start_time = time.time()\n",
    "tokens=test.compute_token()\n",
    "Av_sent_mismatch, article_mismatched=test.coref_to_dir(tokens)\n",
    "print(\"average sentences mismatch overall\",Av_sent_mismatch, \"rate of article presenting a mismatch\", article_mismatched)\n",
    "print(\"--- %s seconds ---\" % (time.time() - start_time))"
   ]
  },
  {
   "cell_type": "markdown",
   "id": "a6e6c603",
   "metadata": {},
   "source": [
    "debuf later, probably str article before putting doc object to iterate through sentences"
   ]
  },
  {
   "cell_type": "code",
   "execution_count": null,
   "id": "902607f7",
   "metadata": {},
   "outputs": [],
   "source": []
  }
 ],
 "metadata": {
  "kernelspec": {
   "display_name": "coref3.7",
   "language": "python",
   "name": "coref3.7"
  },
  "language_info": {
   "codemirror_mode": {
    "name": "ipython",
    "version": 3
   },
   "file_extension": ".py",
   "mimetype": "text/x-python",
   "name": "python",
   "nbconvert_exporter": "python",
   "pygments_lexer": "ipython3",
   "version": "3.7.9"
  }
 },
 "nbformat": 4,
 "nbformat_minor": 5
}
