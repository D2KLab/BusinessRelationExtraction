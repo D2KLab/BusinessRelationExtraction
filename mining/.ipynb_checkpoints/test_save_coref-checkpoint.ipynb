{
 "cells": [
  {
   "cell_type": "code",
   "execution_count": 1,
   "id": "ebbadea4",
   "metadata": {},
   "outputs": [],
   "source": [
    "import os\n",
    "from os import listdir\n",
    "from os.path import isfile, join\n",
    "import numpy as np\n",
    "import pandas as pd\n",
    "import spacy\n",
    "import nltk\n",
    "from nltk.corpus import wordnet\n",
    "from coref_export import save_coref_datas\n",
    "import neuralcoref"
   ]
  },
  {
   "cell_type": "code",
   "execution_count": 2,
   "id": "a7a09773",
   "metadata": {},
   "outputs": [],
   "source": [
    "root=os.getcwd()+'/dataset/'\n",
    "corefdir=os.getcwd()+'/coref/'\n",
    "model_sm=\"en_core_web_sm\"\n",
    "\n",
    "test=save_coref_datas(root, corefdir, model_sm, 0.5)\n"
   ]
  },
  {
   "cell_type": "markdown",
   "id": "f4040db4",
   "metadata": {},
   "source": [
    "# Saving coreference resoluted files in dictionary"
   ]
  },
  {
   "cell_type": "code",
   "execution_count": 3,
   "id": "444627d8",
   "metadata": {},
   "outputs": [
    {
     "name": "stdout",
     "output_type": "stream",
     "text": [
      "--- 170.5643572807312 seconds ---\n"
     ]
    }
   ],
   "source": [
    "import time\n",
    "start_time = time.time()\n",
    "tokens=test.compute_token(True) \n",
    "coref=test.save_coref(tokens)\n",
    "print(\"--- %s seconds ---\" % (time.time() - start_time))"
   ]
  },
  {
   "cell_type": "code",
   "execution_count": 4,
   "id": "75b50375",
   "metadata": {},
   "outputs": [
    {
     "ename": "TypeError",
     "evalue": "compute_token() missing 1 required positional argument: 'subdir'",
     "output_type": "error",
     "traceback": [
      "\u001b[0;31m---------------------------------------------------------------------------\u001b[0m",
      "\u001b[0;31mTypeError\u001b[0m                                 Traceback (most recent call last)",
      "\u001b[0;32m/var/folders/qx/m1pqz67d2f314g00hhxd570c0000gn/T/ipykernel_52765/2695985759.py\u001b[0m in \u001b[0;36m<module>\u001b[0;34m\u001b[0m\n\u001b[1;32m      1\u001b[0m \u001b[0mstart_time\u001b[0m \u001b[0;34m=\u001b[0m \u001b[0mtime\u001b[0m\u001b[0;34m.\u001b[0m\u001b[0mtime\u001b[0m\u001b[0;34m(\u001b[0m\u001b[0;34m)\u001b[0m\u001b[0;34m\u001b[0m\u001b[0;34m\u001b[0m\u001b[0m\n\u001b[0;32m----> 2\u001b[0;31m \u001b[0mdata\u001b[0m\u001b[0;34m=\u001b[0m\u001b[0mtest\u001b[0m\u001b[0;34m.\u001b[0m\u001b[0msave_coref_without_compute_token\u001b[0m\u001b[0;34m(\u001b[0m\u001b[0;34m)\u001b[0m\u001b[0;34m\u001b[0m\u001b[0;34m\u001b[0m\u001b[0m\n\u001b[0m\u001b[1;32m      3\u001b[0m \u001b[0mprint\u001b[0m\u001b[0;34m(\u001b[0m\u001b[0;34m\"--- %s seconds ---\"\u001b[0m \u001b[0;34m%\u001b[0m \u001b[0;34m(\u001b[0m\u001b[0mtime\u001b[0m\u001b[0;34m.\u001b[0m\u001b[0mtime\u001b[0m\u001b[0;34m(\u001b[0m\u001b[0;34m)\u001b[0m \u001b[0;34m-\u001b[0m \u001b[0mstart_time\u001b[0m\u001b[0;34m)\u001b[0m\u001b[0;34m)\u001b[0m\u001b[0;34m\u001b[0m\u001b[0;34m\u001b[0m\u001b[0m\n",
      "\u001b[0;32m~/Desktop/BusinessRelationExtraction/mining/coref_export.py\u001b[0m in \u001b[0;36msave_coref_without_compute_token\u001b[0;34m(self)\u001b[0m\n\u001b[1;32m     60\u001b[0m \u001b[0;34m\u001b[0m\u001b[0m\n\u001b[1;32m     61\u001b[0m     \u001b[0;32mdef\u001b[0m \u001b[0msave_coref_without_compute_token\u001b[0m\u001b[0;34m(\u001b[0m\u001b[0mself\u001b[0m\u001b[0;34m)\u001b[0m\u001b[0;34m:\u001b[0m\u001b[0;34m\u001b[0m\u001b[0;34m\u001b[0m\u001b[0m\n\u001b[0;32m---> 62\u001b[0;31m         \u001b[0mtokens\u001b[0m\u001b[0;34m=\u001b[0m\u001b[0mself\u001b[0m\u001b[0;34m.\u001b[0m\u001b[0mcompute_token\u001b[0m\u001b[0;34m(\u001b[0m\u001b[0;34m)\u001b[0m\u001b[0;34m\u001b[0m\u001b[0;34m\u001b[0m\u001b[0m\n\u001b[0m\u001b[1;32m     63\u001b[0m         \u001b[0;32mreturn\u001b[0m \u001b[0mself\u001b[0m\u001b[0;34m.\u001b[0m\u001b[0msave_coref\u001b[0m\u001b[0;34m(\u001b[0m\u001b[0mtokens\u001b[0m\u001b[0;34m)\u001b[0m\u001b[0;34m\u001b[0m\u001b[0;34m\u001b[0m\u001b[0m\n\u001b[1;32m     64\u001b[0m \u001b[0;34m\u001b[0m\u001b[0m\n",
      "\u001b[0;31mTypeError\u001b[0m: compute_token() missing 1 required positional argument: 'subdir'"
     ]
    }
   ],
   "source": [
    "start_time = time.time()\n",
    "data=test.save_coref_without_compute_token(True)\n",
    "print(\"--- %s seconds ---\" % (time.time() - start_time))"
   ]
  },
  {
   "cell_type": "code",
   "execution_count": null,
   "id": "f0f5d926",
   "metadata": {},
   "outputs": [],
   "source": [
    "[f for f in tokens.keys()]"
   ]
  },
  {
   "cell_type": "markdown",
   "id": "b7596713",
   "metadata": {},
   "source": [
    "Extract dictionary to directory"
   ]
  },
  {
   "cell_type": "code",
   "execution_count": null,
   "id": "be7b9873",
   "metadata": {},
   "outputs": [],
   "source": [
    "text_names = [f for f in data.keys()]\n",
    "for i in text_names:\n",
    "    with open(corefdir+i, mode = \"x\") as f:\n",
    "        f.write(data[i])\n",
    "        f.close\n",
    "print(\"--- %s seconds ---\" % (time.time() - start_time))"
   ]
  },
  {
   "cell_type": "code",
   "execution_count": null,
   "id": "96ec6968",
   "metadata": {},
   "outputs": [],
   "source": [
    "# tokens doc object, coref is string"
   ]
  },
  {
   "cell_type": "code",
   "execution_count": null,
   "id": "02b8a511",
   "metadata": {},
   "outputs": [],
   "source": [
    "# Look at sentence mismatch\n",
    "Av_sent_mismatch, article_mismatched=test.compute_sents_metrics(tokens, coref)\n",
    "print(\"average sentences mismatch overall\",Av_sent_mismatch, \"rate of article presenting a mismatch\", article_mismatched)"
   ]
  },
  {
   "cell_type": "markdown",
   "id": "31127438",
   "metadata": {},
   "source": [
    "# Saving coreference resoluted files directly in dictionary and sentence matching metrics"
   ]
  },
  {
   "cell_type": "code",
   "execution_count": null,
   "id": "62367837",
   "metadata": {},
   "outputs": [],
   "source": [
    "start_time = time.time()\n",
    "tokens=test.compute_token()\n",
    "Av_sent_mismatch, article_mismatched=test.coref_to_dir(tokens)\n",
    "print(\"average sentences mismatch overall\",Av_sent_mismatch, \"rate of article presenting a mismatch\", article_mismatched)\n",
    "print(\"--- %s seconds ---\" % (time.time() - start_time))"
   ]
  },
  {
   "cell_type": "markdown",
   "id": "a6e6c603",
   "metadata": {},
   "source": [
    "debuf later, probably str article before putting doc object to iterate through sentences"
   ]
  },
  {
   "cell_type": "markdown",
   "id": "aa836daa",
   "metadata": {},
   "source": [
    "- write dict to dict in py\n",
    "- debug sentence mismatch\n",
    "- debug coref to dir\n"
   ]
  },
  {
   "cell_type": "code",
   "execution_count": null,
   "id": "f55e78f9",
   "metadata": {},
   "outputs": [],
   "source": []
  },
  {
   "cell_type": "code",
   "execution_count": null,
   "id": "5e5473d4",
   "metadata": {},
   "outputs": [],
   "source": []
  }
 ],
 "metadata": {
  "kernelspec": {
   "display_name": "coref3.7",
   "language": "python",
   "name": "coref3.7"
  },
  "language_info": {
   "codemirror_mode": {
    "name": "ipython",
    "version": 3
   },
   "file_extension": ".py",
   "mimetype": "text/x-python",
   "name": "python",
   "nbconvert_exporter": "python",
   "pygments_lexer": "ipython3",
   "version": "3.7.9"
  }
 },
 "nbformat": 4,
 "nbformat_minor": 5
}
