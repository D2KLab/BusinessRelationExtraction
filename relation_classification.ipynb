{
 "cells": [
  {
   "cell_type": "code",
   "execution_count": 1,
   "metadata": {},
   "outputs": [
    {
     "name": "stderr",
     "output_type": "stream",
     "text": [
      "/Users/romainbourgeois/miniconda3/lib/python3.8/site-packages/jax/_src/lib/__init__.py:34: UserWarning: JAX on Mac ARM machines is experimental and minimally tested. Please see https://github.com/google/jax/issues/5501 in the event of problems.\n",
      "  warnings.warn(\"JAX on Mac ARM machines is experimental and minimally tested. \"\n",
      "Since the GPL-licensed package `unidecode` is not installed, using Python's `unicodedata` package which yields worse results.\n",
      "[nltk_data] Error loading punkt: <urlopen error [Errno 8] nodename nor\n",
      "[nltk_data]     servname provided, or not known>\n"
     ]
    }
   ],
   "source": [
    "import os\n",
    "from os import listdir\n",
    "from os.path import isfile, join\n",
    "import numpy as np\n",
    "import pandas as pd\n",
    "import json\n",
    "import transformers\n",
    "from transformers import AutoTokenizer, DataCollatorForLanguageModeling, TrainingArguments, Trainer, AutoModelForMaskedLM\n",
    "import datasets\n",
    "from datasets import Features, Value, Sequence, load_metric, load_dataset\n",
    "import torch\n",
    "from preprocessing_utils import dataset\n",
    "from sklearn.neighbors import KNeighborsClassifier\n",
    "from sklearn.metrics import f1_score\n",
    "from sklearn.cluster import KMeans\n",
    "import random\n",
    "import seaborn as sns"
   ]
  },
  {
   "cell_type": "code",
   "execution_count": 2,
   "metadata": {},
   "outputs": [],
   "source": [
    "f = open('data/labelled_data.json')\n",
    "data = json.load(f)\n",
    "f = open('data/NERdata.json')\n",
    "ner = json.load(f)"
   ]
  },
  {
   "cell_type": "code",
   "execution_count": 3,
   "metadata": {},
   "outputs": [],
   "source": [
    "d=dataset(data,ner, ['PARTNERSHIP','RESEARCH_PROJECT','SUBSIDIARY','PURCHASE','FINANCING','LAUNCH_PRODUCT-SERVICE','HAS_PRODUCT-SERVICE',\n",
    "'OPERATES_IN_MARKET','BASED_IN','WORKS_IN'],['PARTNERSHIP'])\n",
    "mr=d.mapped_rel()\n",
    "datatrain,datatest=d.build_labelled_dataset(0.2)"
   ]
  },
  {
   "cell_type": "code",
   "execution_count": 4,
   "metadata": {},
   "outputs": [
    {
     "name": "stderr",
     "output_type": "stream",
     "text": [
      "Using custom data configuration default-49c1c1d85130f28f\n",
      "Reusing dataset json (/Users/romainbourgeois/.cache/huggingface/datasets/json/default-49c1c1d85130f28f/0.0.0/ac0ca5f5289a6cf108e706efcf040422dbbfa8e658dee6a819f20d76bb84d26b)\n",
      "100%|██████████| 2/2 [00:00<00:00, 700.28it/s]\n"
     ]
    }
   ],
   "source": [
    "dataset = load_dataset('json',data_files={'train':'data/reldatatrain.json', 'test': 'data/reldatatest.json'}, field='data')\n",
    "tokenizer = AutoTokenizer.from_pretrained(os.getcwd()+\"/tokenizer_fine_tuned_.pt\",local_files_only=True)\n",
    "model_loaded = AutoModelForMaskedLM.from_pretrained(os.getcwd()+\"/fine_tuned_.pt\",local_files_only=True, output_hidden_states=True)"
   ]
  },
  {
   "cell_type": "code",
   "execution_count": 5,
   "metadata": {},
   "outputs": [],
   "source": [
    "labels=['0','PARTNERSHIP','RESEARCH_PROJECT','SUBSIDIARY','PURCHASE','FINANCING','RECRUITMENT','LAUNCH_PRODUCT-SERVICE','HAS_PRODUCT-SERVICE',\n",
    "'OPERATES_IN_MARKET','BASED_IN','WORKS_IN']\n",
    "\n",
    "def firsttoken(output):\n",
    "    return output[0]\n",
    "\n",
    "def EntTokens(output, reverse, e11, e22):\n",
    "    if reverse==True:\n",
    "        return np.concatenate((output[e11],output[e22]),axis=0)\n",
    "    else:\n",
    "        return np.concatenate((output[e22],output[e11]),axis=0)\n",
    "\n",
    "def maxpool_ents(output, reverse, e11, _e11, e22, _e22):\n",
    "    ee1=output[e11+1:_e11]\n",
    "    if ee1.shape[0]==0:\n",
    "        ee1=np.zeros(768)\n",
    "    elif ee1.shape[0]>1:\n",
    "        ee1=ee1.max(axis=0)\n",
    "    else:\n",
    "        ee1=ee1[0]\n",
    "    ee2=output[e22+1:_e22]\n",
    "    if ee2.shape[0]==0:\n",
    "        ee2=np.zeros(768)\n",
    "    elif ee2.shape[0]>1:\n",
    "        ee2=ee2.max(axis=0)\n",
    "    else:\n",
    "        ee2=ee2[0]\n",
    "    if reverse==True:\n",
    "        return np.concatenate((ee1,ee2),axis=0)\n",
    "    else:\n",
    "        return np.concatenate((ee1,ee2),axis=0)\n",
    "\n",
    "def data(dataset, e1=30873, _e1=30875, e2=30874, _e2=30876): \n",
    "    inp=tokenizer(dataset[\"inputs\"], is_split_into_words=True, truncation=True, max_length=512, padding='max_length')\n",
    "    outputs=model_loaded(torch.tensor(inp['input_ids']).reshape(1,-1))\n",
    "    output=outputs[-1][-1].detach().numpy()[0,:,:]\n",
    "    reverse=dataset['head_first']\n",
    "    label=dataset['label']\n",
    "    e11=inp['input_ids'].index(e1)\n",
    "    _e11=inp['input_ids'].index(_e1)\n",
    "    e22=inp['input_ids'].index(e2)\n",
    "    _e22=inp['input_ids'].index(_e2)\n",
    "    l=labels.index(label)\n",
    "    firsttokendata=firsttoken(output)\n",
    "    EntTokensdata=EntTokens(output, reverse, e11, e22)\n",
    "    maxpool_entsdata=maxpool_ents(output, reverse,e11,_e11,e22,_e22)\n",
    "    return l,firsttokendata,EntTokensdata,maxpool_entsdata"
   ]
  },
  {
   "cell_type": "code",
   "execution_count": 6,
   "metadata": {},
   "outputs": [],
   "source": [
    "y_train=np.array(data(dataset['train'][0])[0]).reshape(1,-1)\n",
    "X_train1=data(dataset['train'][0])[1].reshape(1,-1)\n",
    "X_train2=data(dataset['train'][0])[2].reshape(1,-1)\n",
    "X_train3=data(dataset['train'][0])[3].reshape(1,-1)\n",
    "\n",
    "for i in range(len(dataset['train'])):\n",
    "    o,one,two,three=data(dataset['train'][i])\n",
    "    y_train=np.concatenate((y_train,np.array(o).reshape(1,-1)),axis=0)\n",
    "    X_train1=np.concatenate((X_train1,one.reshape(1,-1)),axis=0)\n",
    "    X_train2=np.concatenate((X_train2,two.reshape(1,-1)),axis=0)\n",
    "    X_train3=np.concatenate((X_train3,three.reshape(1,-1)),axis=0)\n",
    "\n",
    "y_test=np.array(data(dataset['test'][0])[0]).reshape(1,-1)\n",
    "X_test1=data(dataset['test'][0])[1].reshape(1,-1)\n",
    "X_test2=data(dataset['test'][0])[2].reshape(1,-1)\n",
    "X_test3=data(dataset['test'][0])[3].reshape(1,-1)\n",
    "\n",
    "for i in range(len(dataset['test'])):\n",
    "    o,one,two,three=data(dataset['test'][i])\n",
    "    y_test=np.concatenate((y_test,np.array(o).reshape(1,-1)),axis=0)\n",
    "    X_test1=np.concatenate((X_test1,one.reshape(1,-1)),axis=0)\n",
    "    X_test2=np.concatenate((X_test2,two.reshape(1,-1)),axis=0)\n",
    "    X_test3=np.concatenate((X_test3,three.reshape(1,-1)),axis=0)\n"
   ]
  },
  {
   "cell_type": "code",
   "execution_count": 7,
   "metadata": {},
   "outputs": [
    {
     "name": "stderr",
     "output_type": "stream",
     "text": [
      "/Users/romainbourgeois/miniconda3/lib/python3.8/site-packages/sklearn/neighbors/_classification.py:200: DataConversionWarning: A column-vector y was passed when a 1d array was expected. Please change the shape of y to (n_samples,), for example using ravel().\n",
      "  return self._fit(X, y)\n"
     ]
    },
    {
     "data": {
      "text/plain": [
       "array([0.8260355 , 0.20664207, 0.        , 0.        , 0.        ,\n",
       "       0.        , 0.        , 0.        , 0.2       , 0.        ])"
      ]
     },
     "execution_count": 7,
     "metadata": {},
     "output_type": "execute_result"
    }
   ],
   "source": [
    "neigh = KNeighborsClassifier(n_neighbors=3)\n",
    "neigh.fit(X_train1, y_train)\n",
    "y_pred=neigh.predict(X_test1)\n",
    "f1_score(y_test, y_pred, average=None)"
   ]
  },
  {
   "cell_type": "code",
   "execution_count": 8,
   "metadata": {},
   "outputs": [
    {
     "name": "stderr",
     "output_type": "stream",
     "text": [
      "/Users/romainbourgeois/miniconda3/lib/python3.8/site-packages/sklearn/neighbors/_classification.py:200: DataConversionWarning: A column-vector y was passed when a 1d array was expected. Please change the shape of y to (n_samples,), for example using ravel().\n",
      "  return self._fit(X, y)\n"
     ]
    },
    {
     "data": {
      "text/plain": [
       "array([0.86163142, 0.17857143, 0.        , 0.5       , 0.        ,\n",
       "       0.        , 0.17142857, 0.15789474, 0.35294118, 0.15384615])"
      ]
     },
     "execution_count": 8,
     "metadata": {},
     "output_type": "execute_result"
    }
   ],
   "source": [
    "neigh = KNeighborsClassifier(n_neighbors=3)\n",
    "neigh.fit(X_train2, y_train)\n",
    "y_pred=neigh.predict(X_test2)\n",
    "f1_score(y_test, y_pred, average=None)"
   ]
  },
  {
   "cell_type": "code",
   "execution_count": 14,
   "metadata": {},
   "outputs": [
    {
     "name": "stderr",
     "output_type": "stream",
     "text": [
      "/Users/romainbourgeois/miniconda3/lib/python3.8/site-packages/sklearn/neighbors/_classification.py:200: DataConversionWarning: A column-vector y was passed when a 1d array was expected. Please change the shape of y to (n_samples,), for example using ravel().\n",
      "  return self._fit(X, y)\n"
     ]
    },
    {
     "data": {
      "text/plain": [
       "array([0.82185273, 0.19402985, 0.        , 0.        , 0.        ,\n",
       "       0.        , 0.        , 0.        , 0.23529412, 0.        ])"
      ]
     },
     "execution_count": 14,
     "metadata": {},
     "output_type": "execute_result"
    }
   ],
   "source": [
    "neigh = KNeighborsClassifier(n_neighbors=3)\n",
    "neigh.fit(X_train3, y_train)\n",
    "y_pred=neigh.predict(X_test3)\n",
    "f1_score(y_test, y_pred, average=None)"
   ]
  },
  {
   "cell_type": "markdown",
   "metadata": {},
   "source": [
    "Solutions for dealing with label 0\n",
    "* remove some 0 to balance dataset\n"
   ]
  },
  {
   "cell_type": "code",
   "execution_count": 38,
   "metadata": {},
   "outputs": [],
   "source": [
    "def kmeans(clusters, train, y_train):\n",
    "    kmeans = KMeans(n_clusters=clusters, random_state=0).fit(train)\n",
    "    p=kmeans.predict(train)\n",
    "    cl={}\n",
    "    for i in range(clusters):\n",
    "        idx=np.where(p == i)\n",
    "        cl[str(i)]=idx\n",
    "    accs=[]\n",
    "    for k in cl.keys():\n",
    "        relations=y_train[cl[k]]\n",
    "        acc=np.unique(relations, return_counts=True)[1].max()/len(relations)\n",
    "        accs.append(acc)\n",
    "    accs=np.array(accs)\n",
    "    score=accs.mean()\n",
    "    score_std=accs.std()\n",
    "    return score, score_std\n",
    "\n"
   ]
  },
  {
   "cell_type": "code",
   "execution_count": 39,
   "metadata": {},
   "outputs": [],
   "source": [
    "scores=[]\n",
    "for i in range(2,50):\n",
    "    score, score_std=kmeans(i, X_train2,y_train)\n",
    "    scores.append([float(score),float(score_std)])\n",
    "    #print(\"for \",i,\" score mean is \",score,\" and std is \",score_std)"
   ]
  },
  {
   "cell_type": "code",
   "execution_count": 65,
   "metadata": {},
   "outputs": [
    {
     "data": {
      "text/plain": [
       "<AxesSubplot:>"
      ]
     },
     "execution_count": 65,
     "metadata": {},
     "output_type": "execute_result"
    },
    {
     "data": {
      "image/png": "[encoded data removed]",
      "text/plain": [
       "<Figure size 432x288 with 1 Axes>"
      ]
     },
     "metadata": {
      "needs_background": "light"
     },
     "output_type": "display_data"
    }
   ],
   "source": [
    "sns.lineplot(data=np.array(scores)[:,0])"
   ]
  },
  {
   "cell_type": "code",
   "execution_count": null,
   "metadata": {},
   "outputs": [],
   "source": []
  }
 ],
 "metadata": {
  "kernelspec": {
   "display_name": "condakaggle",
   "language": "python",
   "name": "condakaggle"
  },
  "language_info": {
   "codemirror_mode": {
    "name": "ipython",
    "version": 3
   },
   "file_extension": ".py",
   "mimetype": "text/x-python",
   "name": "python",
   "nbconvert_exporter": "python",
   "pygments_lexer": "ipython3",
   "version": "3.8.11"
  },
  "orig_nbformat": 4
 },
 "nbformat": 4,
 "nbformat_minor": 2
}
